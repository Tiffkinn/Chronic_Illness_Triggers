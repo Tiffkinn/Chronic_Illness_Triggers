{
 "cells": [
  {
   "cell_type": "code",
   "execution_count": null,
   "id": "f244a82a-2779-49aa-93dd-5c385f319df1",
   "metadata": {},
   "outputs": [],
   "source": [
    "import numpy as np # linear algebra\n",
    "import pandas as pd # data processing, CSV file I/O (e.g. pd.read_csv)\n",
    "import os\n",
    "import matplotlib\n",
    "import matplotlib.pyplot as plt # for plotting\n",
    "import plotly.offline as py\n",
    "py.init_notebook_mode(connected=True)\n",
    "import seaborn as sns # for making plots with seaborn\n",
    "color = sns.color_palette()\n",
    "import plotly.graph_objs as go\n",
    "import plotly.offline as offline\n",
    "offline.init_notebook_mode()\n",
    "import plotly.tools as tls\n",
    "from numpy import array\n",
    "from matplotlib import cm"
   ]
  },
  {
   "cell_type": "code",
   "execution_count": null,
   "id": "3ed35359-e720-4f6f-b486-c28c44265da9",
   "metadata": {
    "editable": true,
    "slideshow": {
     "slide_type": ""
    },
    "tags": []
   },
   "outputs": [],
   "source": [
    "#path = r'Chronic_illness'"
   ]
  },
  {
   "cell_type": "code",
   "execution_count": null,
   "id": "89b5969c-9404-4e27-bf38-c4b9ca8d3d81",
   "metadata": {},
   "outputs": [],
   "source": [
    "path = r'C:\\Users\\tiffk\\Chronic_Illness'"
   ]
  },
  {
   "cell_type": "code",
   "execution_count": null,
   "id": "711b2868-0b60-45c3-a9cf-3b09cdc31322",
   "metadata": {},
   "outputs": [],
   "source": [
    "# Importing dataset\n",
    "df_checked = pd.read_csv(os.path.join(path, 'Data', 'chronic_checked.csv'), low_memory=False, index_col = False)"
   ]
  },
  {
   "cell_type": "code",
   "execution_count": null,
   "id": "eb5bb517-475d-49d1-9b9d-22ef419ec517",
   "metadata": {},
   "outputs": [],
   "source": [
    "df_checked['checkin_date'] = pd.to_datetime(df_checked['checkin_date'])  # Convert 'checkin_date' to datetime format\n",
    "df_checked['entry_id'] = df_checked['user_id'].astype(str) + '_' + df_checked['checkin_date'].dt.strftime('%Y-%m-%d')"
   ]
  },
  {
   "cell_type": "code",
   "execution_count": null,
   "id": "f07d9d41-3514-4e39-a31b-1697a00ab753",
   "metadata": {},
   "outputs": [],
   "source": [
    "# To keep track of entries during merging and track user based and weather and date based factors, create an identifier with 'user_id' and 'checkin_date' columns\n",
    "df_checked['entry_id'] = df_checked['user_id'] + '_' + df_checked['checkin_date'].dt.strftime('%Y-%m-%d')"
   ]
  },
  {
   "cell_type": "code",
   "execution_count": null,
   "id": "85c3ddcf-1fd7-4413-8474-8ccd1362ac4b",
   "metadata": {},
   "outputs": [],
   "source": [
    "df_checked['entry_id'] = df_checked['user_id'].astype(str) + '_' + df_checked['checkin_date'].dt.strftime('%Y-%m-%d')"
   ]
  },
  {
   "cell_type": "code",
   "execution_count": null,
   "id": "64ecf60b-bad4-4eae-8a27-9e7c56c9692e",
   "metadata": {},
   "outputs": [],
   "source": [
    "df_checked.info()"
   ]
  },
  {
   "cell_type": "code",
   "execution_count": null,
   "id": "62570528-5023-4459-93cc-6beda94a887b",
   "metadata": {},
   "outputs": [],
   "source": [
    "s_max = df_checked[df_checked.trackable_name==\"temperature_max\"].trackable_value\n",
    "s_min = df_checked[df_checked.trackable_name==\"temperature_min\"].trackable_value"
   ]
  },
  {
   "cell_type": "code",
   "execution_count": null,
   "id": "7a9736b9-0733-411e-a231-6fdc55722132",
   "metadata": {},
   "outputs": [],
   "source": [
    "max_temp = pd.to_numeric(s_max, errors='coerce')\n",
    "min_temp = pd.to_numeric(s_min, errors='coerce')"
   ]
  },
  {
   "cell_type": "code",
   "execution_count": null,
   "id": "f8c8c573-4c24-4ab9-a1ad-6c96ce80af8b",
   "metadata": {},
   "outputs": [],
   "source": [
    "df_condition = df_checked[df_checked.trackable_type==\"Condition\"]"
   ]
  },
  {
   "cell_type": "code",
   "execution_count": null,
   "id": "4e5d2843-4e19-4dc1-ae87-ff1334cba0fd",
   "metadata": {},
   "outputs": [],
   "source": [
    "# Pivot the DataFrame to create new columns from the values under \"trackable_name\"\n",
    "new_df_condition = df_condition.pivot_table(index='user_id', columns='trackable_type', values='trackable_name', aggfunc='first').reset_index()"
   ]
  },
  {
   "cell_type": "code",
   "execution_count": null,
   "id": "18d54bff-6fa4-448f-80fd-6570257f984a",
   "metadata": {},
   "outputs": [],
   "source": [
    "df_checked[df_checked.trackable_type==\"Weather\"].trackable_name.value_counts()"
   ]
  },
  {
   "cell_type": "code",
   "execution_count": null,
   "id": "8a9476a9-9ff8-4943-a9a6-ab17716c353f",
   "metadata": {},
   "outputs": [],
   "source": [
    "df_weather=df_checked[df_checked.trackable_type==\"Weather\"]\n"
   ]
  },
  {
   "cell_type": "code",
   "execution_count": null,
   "id": "38cb4078-eaaf-4dc2-bc56-5b2ca176bf0a",
   "metadata": {},
   "outputs": [],
   "source": [
    "df_weather.head()"
   ]
  },
  {
   "cell_type": "code",
   "execution_count": null,
   "id": "cdf75fcf-38b1-43df-86ad-0b18c0c8dd93",
   "metadata": {},
   "outputs": [],
   "source": [
    "\n",
    "# Pivot the DataFrame to create new columns from the values under \"trackable_name\"\n",
    "new_df_weather = df_weather.pivot_table(index='user_id', columns='trackable_name', values='trackable_value', aggfunc='first').reset_index()\n",
    "\n",
    "# This will create new columns in the DataFrame based on the unique values in \"trackable_name\", and the values will be populated from \"trackable_value\""
   ]
  },
  {
   "cell_type": "code",
   "execution_count": null,
   "id": "d5c7a281-aa1b-40d7-881b-1fa8c7c6b0f7",
   "metadata": {},
   "outputs": [],
   "source": [
    "new_df_weather.head(10)"
   ]
  },
  {
   "cell_type": "code",
   "execution_count": null,
   "id": "3b087c7e-fd4c-4ba0-98f7-666348ca1649",
   "metadata": {},
   "outputs": [],
   "source": [
    "new_df_weather.describe()"
   ]
  },
  {
   "cell_type": "code",
   "execution_count": null,
   "id": "0f05b238-2eb9-4617-8ad3-ff83a7296bb6",
   "metadata": {},
   "outputs": [],
   "source": [
    "unique_trackable_types = df_checked['trackable_type'].unique()\n",
    "print(unique_trackable_types)"
   ]
  },
  {
   "cell_type": "code",
   "execution_count": null,
   "id": "d49e87d1-7a1e-44af-aad6-c45ff34bca44",
   "metadata": {},
   "outputs": [],
   "source": [
    "df_symptom=df_checked[df_checked.trackable_type==\"Symptom\"]\n",
    "df_treatment=df_checked[df_checked.trackable_type==\"Treatment\"]\n",
    "df_tag=df_checked[df_checked.trackable_type==\"Tag\"]\n",
    "df_food=df_checked[df_checked.trackable_type==\"Food\"]\n",
    "df_HBI=df_checked[df_checked.trackable_type==\"HBI\"]"
   ]
  },
  {
   "cell_type": "code",
   "execution_count": null,
   "id": "e9c02740-8a18-43be-a9e6-e48fbae9212a",
   "metadata": {},
   "outputs": [],
   "source": [
    "df_symptom.info()"
   ]
  },
  {
   "cell_type": "code",
   "execution_count": null,
   "id": "dc46a4e5-8f1d-4424-8cca-eb4001e95c65",
   "metadata": {},
   "outputs": [],
   "source": [
    "df_checked.info()"
   ]
  },
  {
   "cell_type": "code",
   "execution_count": null,
   "id": "f1c8cb28-5dd6-46bb-959c-0b1f5261d61f",
   "metadata": {},
   "outputs": [],
   "source": [
    "df_checked.info()"
   ]
  },
  {
   "cell_type": "code",
   "execution_count": null,
   "id": "fb360af6-ee94-4c8a-8e0d-5321eb91d1f1",
   "metadata": {},
   "outputs": [],
   "source": [
    "df_weather.info()"
   ]
  },
  {
   "cell_type": "code",
   "execution_count": null,
   "id": "a1516582-976b-4613-9d2a-f36d5142b0bb",
   "metadata": {},
   "outputs": [],
   "source": [
    "new_df_weather['temperature_change'] = new_df_weather['temperature_max'] - new_df_weather['temperature_min']"
   ]
  },
  {
   "cell_type": "code",
   "execution_count": null,
   "id": "87fc7ae9-7a03-4c18-8d8f-ea59f32d099b",
   "metadata": {},
   "outputs": [],
   "source": [
    "new_df_weather['humidity'] = pd.to_numeric(new_df_weather['humidity'])\n"
   ]
  },
  {
   "cell_type": "code",
   "execution_count": null,
   "id": "36c82ae0-35f0-4be0-8ecd-b1b7e575d4cc",
   "metadata": {},
   "outputs": [],
   "source": [
    "new_df_weather['temperature_max'] = pd.to_numeric(new_df_weather['temperature_max'])\n",
    "new_df_weather['temperature_min'] = pd.to_numeric(new_df_weather['temperature_min'])"
   ]
  },
  {
   "cell_type": "code",
   "execution_count": null,
   "id": "00f43e7f-6c31-4142-a852-06bda13f87aa",
   "metadata": {},
   "outputs": [],
   "source": [
    "new_df_weather['precip_intensity'] = pd.to_numeric(new_df_weather['precip_intensity'])\n",
    "new_df_weather['pressure'] = pd.to_numeric(new_df_weather['pressure'])"
   ]
  },
  {
   "cell_type": "code",
   "execution_count": null,
   "id": "d1a94194-0153-4f1f-9611-0f698bf21d61",
   "metadata": {},
   "outputs": [],
   "source": [
    "new_df_weather.info()"
   ]
  },
  {
   "cell_type": "code",
   "execution_count": null,
   "id": "0d596246-db88-4696-a824-3d765480ce71",
   "metadata": {},
   "outputs": [],
   "source": [
    "df_checked['age'] = pd.to_numeric(df_checked['age'])\n"
   ]
  },
  {
   "cell_type": "code",
   "execution_count": null,
   "id": "542dd511-3efe-4a0c-a691-bd03d037e201",
   "metadata": {},
   "outputs": [],
   "source": [
    "merged_df = df_condition.merge(df_treatment, on='entry_id', how='outer')"
   ]
  },
  {
   "cell_type": "code",
   "execution_count": null,
   "id": "3e05f216-7e63-4444-8783-d5ef5cd9d497",
   "metadata": {},
   "outputs": [],
   "source": [
    "merged_df.head(5)"
   ]
  },
  {
   "cell_type": "code",
   "execution_count": null,
   "id": "72b6a360-f07e-465c-94e2-724be996a9ad",
   "metadata": {},
   "outputs": [],
   "source": [
    "df_checked.head()"
   ]
  },
  {
   "cell_type": "code",
   "execution_count": null,
   "id": "2ef137c9-ed65-484f-9291-f32308b55094",
   "metadata": {},
   "outputs": [],
   "source": [
    "# Assuming df_checked is your DataFrame\n",
    "# Create a new column 'condition' and set default value as None\n",
    "df_checked['condition'] = None\n",
    "\n",
    "# Set the values from 'trackable_name' where 'trackable_type' is 'Condition'\n",
    "df_checked.loc[df_checked['trackable_type'] == 'Condition', 'condition'] = df_checked.loc[df_checked['trackable_type'] == 'Condition', 'trackable_name']"
   ]
  },
  {
   "cell_type": "code",
   "execution_count": null,
   "id": "19f254ba-ec44-4eba-bb65-c40e819fc9cd",
   "metadata": {},
   "outputs": [],
   "source": [
    "# Create a new column in df_checked 'treatment' and set default value as None\n",
    "df_checked['treatment'] = None\n",
    "\n",
    "# Set the values from 'trackable_name' where 'trackable_type' is 'Condition'\n",
    "df_checked.loc[df_checked['trackable_type'] == 'Treatment', 'treatment'] = df_checked.loc[df_checked['trackable_type'] == 'Treatment', 'trackable_name']"
   ]
  },
  {
   "cell_type": "code",
   "execution_count": null,
   "id": "72c60303-d752-4069-b618-9558ce499724",
   "metadata": {},
   "outputs": [],
   "source": [
    "unique_trackable_types = df_checked['trackable_type'].unique()\n",
    "print(unique_trackable_types)"
   ]
  },
  {
   "cell_type": "code",
   "execution_count": null,
   "id": "fae69b9a-b5cb-4020-8391-8c6df02c9ebe",
   "metadata": {},
   "outputs": [],
   "source": [
    "# Create a new column 'treatment' in df_checked and set default value as None\n",
    "df_checked['food'] = None\n",
    "\n",
    "# Set the values from 'trackable_name' where 'trackable_type' is 'Food'\n",
    "df_checked.loc[df_checked['trackable_type'] == 'Food', 'food'] = df_checked.loc[df_checked['trackable_type'] == 'Food', 'food']"
   ]
  },
  {
   "cell_type": "code",
   "execution_count": null,
   "id": "4520960b-8ddf-4000-af99-b4476f9e7946",
   "metadata": {},
   "outputs": [],
   "source": [
    "# In df_checked create a new column 'pain' and set default value as 0\n",
    "df_checked['pain'] = '0'\n",
    "\n",
    "# Set the values from 'Condition' where 'pain' is found\n",
    "df_checked.loc[df_checked['trackable_type'] == 'Condition', 'condition'] = df_checked.loc[df_checked['trackable_type'] == 'Food', 'food']"
   ]
  },
  {
   "cell_type": "code",
   "execution_count": null,
   "id": "7cccc98d-e02b-4e7e-b096-e9e39842d80e",
   "metadata": {},
   "outputs": [],
   "source": [
    "# Creates a new column 'Pain' in df_checked and set the default value as 0\n",
    "df_checked['Pain'] = 0\n",
    "\n",
    "# Set the value to 1 where the word 'pain' is found in the 'Condition' column\n",
    "df_checked.loc[df_checked['condition'].str.contains('pain', case=False, na=False), 'Pain'] = 1"
   ]
  },
  {
   "cell_type": "code",
   "execution_count": null,
   "id": "3a20d72e-0ec4-4640-9746-8e409c5447c8",
   "metadata": {},
   "outputs": [],
   "source": [
    "df_checked.head()"
   ]
  },
  {
   "cell_type": "code",
   "execution_count": null,
   "id": "1c37b0b4-2ece-4ab1-b12d-a6ee4a3d0805",
   "metadata": {},
   "outputs": [],
   "source": [
    "# Create a new column 'Pain_Severity' in df_checked by multiplying the 'Pain' column with 'trackable_value' where 'trackable_type' is 'Condition'\n",
    "df_checked['Pain_Severity'] = df_checked['Pain'] * df_checked.loc[df_checked['trackable_type'] == 'Condition', 'trackable_value']"
   ]
  },
  {
   "cell_type": "code",
   "execution_count": null,
   "id": "e3142a82-dee9-4cc5-8243-39dfbc2cf9bf",
   "metadata": {},
   "outputs": [],
   "source": [
    "df_checked.info()"
   ]
  },
  {
   "cell_type": "code",
   "execution_count": null,
   "id": "96a6e11b-6f6d-42de-ae1a-6c356e1f237f",
   "metadata": {},
   "outputs": [],
   "source": [
    "df_weather.head()"
   ]
  },
  {
   "cell_type": "code",
   "execution_count": null,
   "id": "c8838e1e-3c90-442b-a11b-c645a85e0c87",
   "metadata": {},
   "outputs": [],
   "source": [
    "# Exporting df_checked as \"chronic_transformed.csv\"\n",
    "df_checked.to_csv(os.path.join(path, 'Data', 'chronic_transformed.csv'))"
   ]
  },
  {
   "cell_type": "code",
   "execution_count": null,
   "id": "7ebfe690-7902-4866-8d2c-ca4719b92adf",
   "metadata": {},
   "outputs": [],
   "source": [
    "# Create a new column 'pressure' in df_weather with values from 'trackable_value' where 'trackable_name' is 'pressure'\n",
    "df_weather['pressure'] = df_weather.loc[df_weather['trackable_name'] == 'pressure', 'trackable_value']"
   ]
  },
  {
   "cell_type": "code",
   "execution_count": null,
   "id": "921d63ce-56fb-4937-bdef-5857b7abd3ba",
   "metadata": {},
   "outputs": [],
   "source": [
    "df_weather.describe()"
   ]
  },
  {
   "cell_type": "code",
   "execution_count": null,
   "id": "5e180eee-0a56-49e8-9777-7178328d6a05",
   "metadata": {},
   "outputs": [],
   "source": [
    "# Create a new column 'precipitation' in df_weather with values from 'trackable_value' where 'trackable_name' is 'precip_intensity'\n",
    "df_weather['precipitation'] = df_weather.loc[df_weather['trackable_name'] == 'precip_intensity', 'trackable_value']"
   ]
  },
  {
   "cell_type": "code",
   "execution_count": null,
   "id": "ce688628-4af4-4744-a1d0-eb5b22305b74",
   "metadata": {},
   "outputs": [],
   "source": [
    "# Create a new column 'precipitation' in df_weather with values from 'trackable_value' where 'trackable_name' is 'precip_intensity'\n",
    "df_weather['precipitation'] = df_weather.loc[df_weather['trackable_name'] == 'precip_intensity', 'trackable_value']"
   ]
  },
  {
   "cell_type": "code",
   "execution_count": null,
   "id": "435457a8-fe04-4b4a-b657-a84bda343727",
   "metadata": {},
   "outputs": [],
   "source": [
    "# Create a new column 'max_temp' in df_weather with values from 'trackable_value' where 'trackable_name' is 'temperature_max'\n",
    "df_weather['max_temp'] = df_weather.loc[df_weather['trackable_name'] == 'temperature_max', 'trackable_value']"
   ]
  },
  {
   "cell_type": "code",
   "execution_count": null,
   "id": "152f5201-6fe5-4d67-b687-67841652db0b",
   "metadata": {},
   "outputs": [],
   "source": [
    "# Create a new column 'min_temp' in df_weather with values from 'trackable_value' where 'trackable_name' is 'temperature_min'\n",
    "df_weather['min_temp'] = df_weather.loc[df_weather['trackable_name'] == 'temperature_min', 'trackable_value']"
   ]
  },
  {
   "cell_type": "code",
   "execution_count": null,
   "id": "2510cd6a-b74f-4d80-bf79-02dea4d3afee",
   "metadata": {},
   "outputs": [],
   "source": [
    "new_df_weather.info()"
   ]
  },
  {
   "cell_type": "code",
   "execution_count": null,
   "id": "f0ccdbdb-e1cf-4f08-a57a-367fb4df8792",
   "metadata": {},
   "outputs": [],
   "source": [
    "\n",
    "# Assuming df_weather is your DataFrame\n",
    "df_weather['temp_change'] = df_weather['max_temp'] - df_weather['min_temp']"
   ]
  },
  {
   "cell_type": "code",
   "execution_count": null,
   "id": "e351a6f3-26a3-4b66-8945-11ddf98f2b26",
   "metadata": {},
   "outputs": [],
   "source": [
    "\n",
    "# Assuming df_weather is your DataFrame and cols_to_convert is a list of column names to convert to numeric\n",
    "cols_to_convert = ['column1', 'column2', 'column3']  # Replace with your actual column names\n",
    "\n",
    "df_weather[cols_to_convert] = df_weather[cols_to_convert].apply(pd.to_numeric, errors='coerce')"
   ]
  },
  {
   "cell_type": "code",
   "execution_count": null,
   "id": "240dc369-d198-412f-840c-32a63effe47a",
   "metadata": {},
   "outputs": [],
   "source": [
    "# Merging df_checked and df_weather DataFrames\n",
    "merged_df = df_checked.merge(df_weather, on='entry_id', how='left')"
   ]
  },
  {
   "cell_type": "code",
   "execution_count": null,
   "id": "98ea4a0c-cc6e-41df-8aab-c608f0970925",
   "metadata": {},
   "outputs": [],
   "source": [
    "# Exporting df_checked as \"chronic_transformed.csv\"\n",
    "df_weather.to_csv(os.path.join(path, 'Data', 'weather_combined.csv'))"
   ]
  },
  {
   "cell_type": "code",
   "execution_count": null,
   "id": "63f9032c-d667-4e7f-8e53-62c6ab52a348",
   "metadata": {},
   "outputs": [],
   "source": [
    "df_weather.head()"
   ]
  },
  {
   "cell_type": "code",
   "execution_count": null,
   "id": "b4ca2ade-62d2-4655-a20b-236efb9ec0aa",
   "metadata": {},
   "outputs": [],
   "source": [
    "merged_df"
   ]
  },
  {
   "cell_type": "code",
   "execution_count": null,
   "id": "83e5063f-1739-42c4-bff9-4144043af48b",
   "metadata": {},
   "outputs": [],
   "source": [
    "# Exporting merged_df as \"chronic_merged.csv\"\n",
    "merged_df.to_csv(os.path.join(path, 'Data', 'chronic_merged.csv'))"
   ]
  },
  {
   "cell_type": "code",
   "execution_count": null,
   "id": "f6b6b4ce-a99f-4669-9778-3c86ce30d3af",
   "metadata": {},
   "outputs": [],
   "source": [
    "merged_df.info()"
   ]
  },
  {
   "cell_type": "code",
   "execution_count": null,
   "id": "1e06e853-cab6-4bb2-a522-82499c3828e9",
   "metadata": {},
   "outputs": [],
   "source": [
    "merged_df.describe()"
   ]
  },
  {
   "cell_type": "code",
   "execution_count": null,
   "id": "c57e111b-9f34-417e-8efe-f587be81d4dc",
   "metadata": {},
   "outputs": [],
   "source": [
    "# Selecting only necessary columns from df_checked\n",
    "df_checked_reduced = df_checked[['entry_id', 'age', 'sex', 'country', 'checkin_date', 'condition', 'treatment', 'food', 'Pain','Pain_Severity']]\n",
    "\n",
    "# Selecting only necessary columns from df_weather\n",
    "df_weather_reduced = df_weather[['entry_id', 'pressure', 'precipitation', 'max_temp', 'min_temp']]"
   ]
  },
  {
   "cell_type": "code",
   "execution_count": null,
   "id": "b702186b-c18b-4da0-b27e-a3dead47eb96",
   "metadata": {},
   "outputs": [],
   "source": [
    "# Merging df_checked and df_weather DataFrames\n",
    "remerged_df = df_checked_reduced.merge(df_weather_reduced, on='entry_id', how='left')"
   ]
  },
  {
   "cell_type": "code",
   "execution_count": null,
   "id": "03361201-7d40-4588-b79a-d18aae47f110",
   "metadata": {},
   "outputs": [],
   "source": [
    "# Exporting remerged_df as \"chronic_merged.csv\"\n",
    "remerged_df.to_csv(os.path.join(path, 'Data', 'chronic_merged_num.csv'))"
   ]
  },
  {
   "cell_type": "code",
   "execution_count": null,
   "id": "f0f2ca27-b106-4b3d-8584-fbfc0bdc28d2",
   "metadata": {},
   "outputs": [],
   "source": [
    "\n",
    "# Replace empty strings with NaN and then convert the columns to float\n",
    "remerged_df[['age', 'Pain', 'Pain_Severity', 'pressure', 'precipitation', 'max_temp', 'min_temp']] = remerged_df[['age', 'Pain', 'Pain_Severity', 'pressure', 'precipitation', 'max_temp', 'min_temp']].replace('', float('nan')).astype(float)"
   ]
  },
  {
   "cell_type": "code",
   "execution_count": null,
   "id": "c3e24b05-5d20-4b45-aec1-7839bf170782",
   "metadata": {
    "editable": true,
    "slideshow": {
     "slide_type": ""
    },
    "tags": []
   },
   "outputs": [],
   "source": [
    "# Calculate the correlation matrix\n",
    "corr_matrix = remerged_df.corr()\n",
    "\n",
    "# Create a heatmap\n",
    "plt.figure(figsize=(10, 8))\n",
    "sns.heatmap(corr_matrix, annot=True, cmap='coolwarm', fmt='.2f')\n",
    "plt.title('Correlation Matrix Heatmap')\n",
    "plt.show()"
   ]
  },
  {
   "cell_type": "code",
   "execution_count": null,
   "id": "b39441aa-bb9d-4876-b802-0707df13a5c3",
   "metadata": {},
   "outputs": [],
   "source": [
    "# Remove non-numeric columns from the dataframe before calculating the correlation matrix\n",
    "numeric_df = remerged_df.select_dtypes(include=['float64', 'int64'])\n",
    "\n",
    "# Calculate the correlation matrix\n",
    "corr_matrix = numeric_df.corr()\n",
    "\n",
    "# Create a heatmap\n",
    "plt.figure(figsize=(10, 8))\n",
    "sns.heatmap(corr_matrix, annot=True, cmap='coolwarm', fmt='.2f')\n",
    "plt.title('Correlation Matrix Heatmap')\n",
    "plt.show()"
   ]
  },
  {
   "cell_type": "code",
   "execution_count": null,
   "id": "9663adc0-9938-4d0c-b47a-7eca8f15e1cc",
   "metadata": {},
   "outputs": [],
   "source": [
    "numerical_columns = remerged_df(include=['int', 'float'])"
   ]
  },
  {
   "cell_type": "code",
   "execution_count": null,
   "id": "aa4ad55e-a0ba-4c38-a4d2-6a1a7481429d",
   "metadata": {
    "editable": true,
    "slideshow": {
     "slide_type": ""
    },
    "tags": []
   },
   "outputs": [],
   "source": [
    "#Create a correlation matrix using pandas\n",
    "#Select only the numerical columns from the DataFrame to avoid errors\n",
    "numerical_columns = remerged_df.select_dtypes(include=['int', 'float'])\n",
    "\n",
    "#The index ('rank') is one of the numerical columns, so we will drop it\n",
    "\n",
    "if 'age' in numerical_columns.columns:\n",
    "    numerical_columns = numerical_columns.drop(columns=['age', 'max_temp', 'min_temp'])\n",
    "\n",
    "#Now, we create the correlation matrix with the appropriate data\n",
    "numerical_columns.corr()"
   ]
  },
  {
   "cell_type": "code",
   "execution_count": null,
   "id": "830a4e25-8caa-4a0e-ab4c-e78d44e3dc9c",
   "metadata": {
    "editable": true,
    "slideshow": {
     "slide_type": ""
    },
    "tags": []
   },
   "outputs": [],
   "source": [
    "remerged_df['temp_change'] = remerged_df['max_temp'] - remerged_df['min_temp']"
   ]
  },
  {
   "cell_type": "code",
   "execution_count": null,
   "id": "363a32c4-8a39-4298-9728-7661538df774",
   "metadata": {},
   "outputs": [],
   "source": [
    "# Create a new DataFrame with selected columns\n",
    "selected_columns_df = remerged_df[['Pain', 'Pain_Severity', 'pressure', 'precipitation', 'temp_change']]"
   ]
  },
  {
   "cell_type": "code",
   "execution_count": null,
   "id": "8df70c28-67e9-420b-ba99-28fa7f7a2ae7",
   "metadata": {},
   "outputs": [],
   "source": []
  }
 ],
 "metadata": {
  "kernelspec": {
   "display_name": "Python 3 (ipykernel)",
   "language": "python",
   "name": "python3"
  },
  "language_info": {
   "codemirror_mode": {
    "name": "ipython",
    "version": 3
   },
   "file_extension": ".py",
   "mimetype": "text/x-python",
   "name": "python",
   "nbconvert_exporter": "python",
   "pygments_lexer": "ipython3",
   "version": "3.11.7"
  }
 },
 "nbformat": 4,
 "nbformat_minor": 5
}
