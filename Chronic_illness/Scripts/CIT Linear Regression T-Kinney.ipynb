{
 "cells": [
  {
   "cell_type": "markdown",
   "id": "5949bd3b-a4a5-4606-b242-69e8c68abc6f",
   "metadata": {},
   "source": [
    "# Chronic Illness Triggers Linear Regression"
   ]
  },
  {
   "cell_type": "markdown",
   "id": "bb800f75-c67a-4db6-8efe-311c8c2315a6",
   "metadata": {},
   "source": [
    "## Importing Libraries"
   ]
  },
  {
   "cell_type": "code",
   "execution_count": 3,
   "id": "6ae16b79-f64a-49a0-b30c-f2bc646632c9",
   "metadata": {},
   "outputs": [],
   "source": [
    "import pandas as pd\n",
    "import numpy as np\n",
    "import seaborn as sns\n",
    "import matplotlib\n",
    "import matplotlib.pyplot as plt\n",
    "import os\n",
    "import sklearn\n",
    "from sklearn.model_selection import train_test_split \n",
    "from sklearn.linear_model import LinearRegression\n",
    "from sklearn.metrics import mean_squared_error, r2_score"
   ]
  },
  {
   "cell_type": "code",
   "execution_count": 10,
   "id": "7b74f7ef-2e7d-427e-be60-329436755424",
   "metadata": {},
   "outputs": [],
   "source": [
    "# This option ensures that the graphs you create are displayed within the notebook without the need to \"call\" them specifically.\n",
    "\n",
    "%matplotlib inline"
   ]
  },
  {
   "cell_type": "markdown",
   "id": "9d9b81ab-9722-4a7f-8347-c55faa92b1af",
   "metadata": {},
   "source": [
    "## Defining the path and loading data"
   ]
  },
  {
   "cell_type": "code",
   "execution_count": 20,
   "id": "4cb4ca37-a80d-4605-9266-e2514c5d557b",
   "metadata": {},
   "outputs": [],
   "source": [
    "path = r'C:\\Users\\tiffk\\Chronic_Illness'"
   ]
  },
  {
   "cell_type": "code",
   "execution_count": 22,
   "id": "dbcd6a47-9e9f-40ed-8e22-2d5755066f3e",
   "metadata": {},
   "outputs": [],
   "source": [
    "# Importing datasets\n",
    "df_merged = pd.read_csv(os.path.join(path, 'Data', 'merged_data.csv'), low_memory=False, index_col = False)\n"
   ]
  },
  {
   "cell_type": "markdown",
   "id": "22f98023-38e5-46f9-bddd-bff4c0e9caa8",
   "metadata": {},
   "source": [
    "**Checking data**"
   ]
  },
  {
   "cell_type": "markdown",
   "id": "bf20f2cd-1c9e-470d-97d4-a8fef55778f2",
   "metadata": {},
   "source": [
    "## "
   ]
  },
  {
   "cell_type": "code",
   "execution_count": 26,
   "id": "af936ba2-aa7d-4156-8d0f-87661e1c07e0",
   "metadata": {},
   "outputs": [
    {
     "data": {
      "text/html": [
       "<div>\n",
       "<style scoped>\n",
       "    .dataframe tbody tr th:only-of-type {\n",
       "        vertical-align: middle;\n",
       "    }\n",
       "\n",
       "    .dataframe tbody tr th {\n",
       "        vertical-align: top;\n",
       "    }\n",
       "\n",
       "    .dataframe thead th {\n",
       "        text-align: right;\n",
       "    }\n",
       "</style>\n",
       "<table border=\"1\" class=\"dataframe\">\n",
       "  <thead>\n",
       "    <tr style=\"text-align: right;\">\n",
       "      <th></th>\n",
       "      <th>Unnamed: 0.1</th>\n",
       "      <th>Unnamed: 0</th>\n",
       "      <th>user_id</th>\n",
       "      <th>age</th>\n",
       "      <th>sex</th>\n",
       "      <th>country</th>\n",
       "      <th>checkin_date</th>\n",
       "      <th>trackable_id</th>\n",
       "      <th>trackable_type</th>\n",
       "      <th>trackable_name</th>\n",
       "      <th>trackable_value</th>\n",
       "      <th>has_arthritis</th>\n",
       "      <th>pain_count</th>\n",
       "      <th>symptom</th>\n",
       "      <th>condition</th>\n",
       "      <th>weather</th>\n",
       "      <th>precipitation_x</th>\n",
       "      <th>severity</th>\n",
       "      <th>Age_1</th>\n",
       "      <th>precipitation_y_checked2</th>\n",
       "    </tr>\n",
       "  </thead>\n",
       "  <tbody>\n",
       "    <tr>\n",
       "      <th>0</th>\n",
       "      <td>0</td>\n",
       "      <td>0</td>\n",
       "      <td>9070</td>\n",
       "      <td>0</td>\n",
       "      <td>NaN</td>\n",
       "      <td>NaN</td>\n",
       "      <td>2015-11-26</td>\n",
       "      <td>1069</td>\n",
       "      <td>Condition</td>\n",
       "      <td>Ulcerative colitis</td>\n",
       "      <td>0</td>\n",
       "      <td>0</td>\n",
       "      <td>0</td>\n",
       "      <td>NaN</td>\n",
       "      <td>Ulcerative colitis</td>\n",
       "      <td>NaN</td>\n",
       "      <td>0</td>\n",
       "      <td>0</td>\n",
       "      <td>34.04953</td>\n",
       "      <td>NaN</td>\n",
       "    </tr>\n",
       "    <tr>\n",
       "      <th>1</th>\n",
       "      <td>1</td>\n",
       "      <td>1</td>\n",
       "      <td>22737</td>\n",
       "      <td>32</td>\n",
       "      <td>male</td>\n",
       "      <td>US</td>\n",
       "      <td>2015-11-26</td>\n",
       "      <td>1069</td>\n",
       "      <td>Condition</td>\n",
       "      <td>Ulcerative colitis</td>\n",
       "      <td>0</td>\n",
       "      <td>0</td>\n",
       "      <td>0</td>\n",
       "      <td>NaN</td>\n",
       "      <td>Ulcerative colitis</td>\n",
       "      <td>NaN</td>\n",
       "      <td>0</td>\n",
       "      <td>0</td>\n",
       "      <td>32.00000</td>\n",
       "      <td>NaN</td>\n",
       "    </tr>\n",
       "    <tr>\n",
       "      <th>2</th>\n",
       "      <td>2</td>\n",
       "      <td>2</td>\n",
       "      <td>376</td>\n",
       "      <td>2</td>\n",
       "      <td>female</td>\n",
       "      <td>CA</td>\n",
       "      <td>2017-04-28</td>\n",
       "      <td>3168</td>\n",
       "      <td>Condition</td>\n",
       "      <td>pain in left upper arm felt like i was getting...</td>\n",
       "      <td>4</td>\n",
       "      <td>0</td>\n",
       "      <td>1</td>\n",
       "      <td>Joint stiffness</td>\n",
       "      <td>pain in left upper arm felt like i was getting...</td>\n",
       "      <td>NaN</td>\n",
       "      <td>0</td>\n",
       "      <td>4</td>\n",
       "      <td>2.00000</td>\n",
       "      <td>0.0031</td>\n",
       "    </tr>\n",
       "    <tr>\n",
       "      <th>3</th>\n",
       "      <td>2</td>\n",
       "      <td>2</td>\n",
       "      <td>376</td>\n",
       "      <td>2</td>\n",
       "      <td>female</td>\n",
       "      <td>CA</td>\n",
       "      <td>2017-04-28</td>\n",
       "      <td>3168</td>\n",
       "      <td>Condition</td>\n",
       "      <td>pain in left upper arm felt like i was getting...</td>\n",
       "      <td>4</td>\n",
       "      <td>0</td>\n",
       "      <td>1</td>\n",
       "      <td>Joint stiffness</td>\n",
       "      <td>pain in left upper arm felt like i was getting...</td>\n",
       "      <td>NaN</td>\n",
       "      <td>0</td>\n",
       "      <td>4</td>\n",
       "      <td>2.00000</td>\n",
       "      <td>0.0031</td>\n",
       "    </tr>\n",
       "    <tr>\n",
       "      <th>4</th>\n",
       "      <td>2</td>\n",
       "      <td>2</td>\n",
       "      <td>376</td>\n",
       "      <td>2</td>\n",
       "      <td>female</td>\n",
       "      <td>CA</td>\n",
       "      <td>2017-04-28</td>\n",
       "      <td>3168</td>\n",
       "      <td>Condition</td>\n",
       "      <td>pain in left upper arm felt like i was getting...</td>\n",
       "      <td>4</td>\n",
       "      <td>0</td>\n",
       "      <td>1</td>\n",
       "      <td>Joint stiffness</td>\n",
       "      <td>pain in left upper arm felt like i was getting...</td>\n",
       "      <td>NaN</td>\n",
       "      <td>0</td>\n",
       "      <td>4</td>\n",
       "      <td>2.00000</td>\n",
       "      <td>0.0031</td>\n",
       "    </tr>\n",
       "  </tbody>\n",
       "</table>\n",
       "</div>"
      ],
      "text/plain": [
       "   Unnamed: 0.1  Unnamed: 0  user_id  age     sex country checkin_date  \\\n",
       "0             0           0     9070    0     NaN     NaN   2015-11-26   \n",
       "1             1           1    22737   32    male      US   2015-11-26   \n",
       "2             2           2      376    2  female      CA   2017-04-28   \n",
       "3             2           2      376    2  female      CA   2017-04-28   \n",
       "4             2           2      376    2  female      CA   2017-04-28   \n",
       "\n",
       "  trackable_id trackable_type  \\\n",
       "0         1069      Condition   \n",
       "1         1069      Condition   \n",
       "2         3168      Condition   \n",
       "3         3168      Condition   \n",
       "4         3168      Condition   \n",
       "\n",
       "                                      trackable_name trackable_value  \\\n",
       "0                                 Ulcerative colitis               0   \n",
       "1                                 Ulcerative colitis               0   \n",
       "2  pain in left upper arm felt like i was getting...               4   \n",
       "3  pain in left upper arm felt like i was getting...               4   \n",
       "4  pain in left upper arm felt like i was getting...               4   \n",
       "\n",
       "   has_arthritis  pain_count          symptom  \\\n",
       "0              0           0              NaN   \n",
       "1              0           0              NaN   \n",
       "2              0           1  Joint stiffness   \n",
       "3              0           1  Joint stiffness   \n",
       "4              0           1  Joint stiffness   \n",
       "\n",
       "                                           condition weather  precipitation_x  \\\n",
       "0                                 Ulcerative colitis     NaN                0   \n",
       "1                                 Ulcerative colitis     NaN                0   \n",
       "2  pain in left upper arm felt like i was getting...     NaN                0   \n",
       "3  pain in left upper arm felt like i was getting...     NaN                0   \n",
       "4  pain in left upper arm felt like i was getting...     NaN                0   \n",
       "\n",
       "   severity     Age_1  precipitation_y_checked2  \n",
       "0         0  34.04953                       NaN  \n",
       "1         0  32.00000                       NaN  \n",
       "2         4   2.00000                    0.0031  \n",
       "3         4   2.00000                    0.0031  \n",
       "4         4   2.00000                    0.0031  "
      ]
     },
     "execution_count": 26,
     "metadata": {},
     "output_type": "execute_result"
    }
   ],
   "source": [
    "df_merged.head(5)"
   ]
  },
  {
   "cell_type": "code",
   "execution_count": 28,
   "id": "f509d7d0-545c-49e6-8811-89bc9b963353",
   "metadata": {},
   "outputs": [
    {
     "name": "stdout",
     "output_type": "stream",
     "text": [
      "<class 'pandas.core.frame.DataFrame'>\n",
      "RangeIndex: 3729479 entries, 0 to 3729478\n",
      "Data columns (total 20 columns):\n",
      " #   Column                    Dtype  \n",
      "---  ------                    -----  \n",
      " 0   Unnamed: 0.1              int64  \n",
      " 1   Unnamed: 0                int64  \n",
      " 2   user_id                   int64  \n",
      " 3   age                       int64  \n",
      " 4   sex                       object \n",
      " 5   country                   object \n",
      " 6   checkin_date              object \n",
      " 7   trackable_id              object \n",
      " 8   trackable_type            object \n",
      " 9   trackable_name            object \n",
      " 10  trackable_value           object \n",
      " 11  has_arthritis             int64  \n",
      " 12  pain_count                int64  \n",
      " 13  symptom                   object \n",
      " 14  condition                 object \n",
      " 15  weather                   object \n",
      " 16  precipitation_x           int64  \n",
      " 17  severity                  int64  \n",
      " 18  Age_1                     float64\n",
      " 19  precipitation_y_checked2  float64\n",
      "dtypes: float64(2), int64(8), object(10)\n",
      "memory usage: 569.1+ MB\n"
     ]
    }
   ],
   "source": [
    "df_merged.info(5)"
   ]
  },
  {
   "cell_type": "code",
   "execution_count": 30,
   "id": "139291b9-246d-4dbf-b713-29a9bc976912",
   "metadata": {},
   "outputs": [],
   "source": [
    "# precipitation_x is a redundant column now\n",
    "df_merged = df_merged.drop('precipitation_x', axis=1)"
   ]
  },
  {
   "cell_type": "markdown",
   "id": "de03f78f-379d-4c69-9b61-2593aecf2913",
   "metadata": {},
   "source": [
    "## Cleaning up column names and types, prepare the data for analysis"
   ]
  },
  {
   "cell_type": "code",
   "execution_count": 35,
   "id": "91c63daa-b5ee-4ccb-9399-263c944da371",
   "metadata": {},
   "outputs": [],
   "source": [
    "# Cleaning up column names and types\n",
    "# Convert 'Age_1' column to integer type if it contains whole numbers, or to float type if it contains decimal numbers\n",
    "df_merged['Age_1'] = df_merged['Age_1'].astype(int)  # Use int if 'Age_1' contains whole numbers, otherwise use float\n",
    "\n",
    "# Rename the column 'precipitation_y_checked2' to 'precipitation'\n",
    "df_merged = df_merged.rename(columns={'precipitation_y_checked2': 'precipitation'})"
   ]
  },
  {
   "cell_type": "code",
   "execution_count": 37,
   "id": "93a4d646-1b9e-4d90-90e5-33100e465d7c",
   "metadata": {},
   "outputs": [],
   "source": [
    "# Convert 'severity' column to the smallest integer type that can hold the values\n",
    "df_merged['severity'] = pd.to_numeric(df_merged['severity'], downcast='integer')\n",
    "\n",
    "# Convert 'Age_1' column to the smallest numeric type that can hold the values\n",
    "df_merged['Age_1'] = pd.to_numeric(df_merged['Age_1'], downcast='integer')  # Use 'integer' if 'Age_1' contains whole numbers, otherwise use 'float'\n",
    "\n",
    "# Convert 'precipitation' column to the smallest numeric type that can hold the values\n",
    "df_merged['precipitation'] = pd.to_numeric(df_merged['precipitation'], downcast='float')"
   ]
  },
  {
   "cell_type": "code",
   "execution_count": 45,
   "id": "7f9bb428-5f8c-4638-a581-4ca02b512bf9",
   "metadata": {},
   "outputs": [],
   "source": [
    "# Rename the column 'precipitation_y_checked2' to 'precipitation'\n",
    "df_merged = df_merged.rename(columns={'Age_1': 'Age'})"
   ]
  },
  {
   "cell_type": "markdown",
   "id": "91b5ba7e-6046-4912-aa9d-94f62d8ef247",
   "metadata": {},
   "source": [
    "**Export updated dataframe to save work**"
   ]
  },
  {
   "cell_type": "code",
   "execution_count": 167,
   "id": "32cf241f-97a0-48dd-b4b7-83ab872e9703",
   "metadata": {},
   "outputs": [],
   "source": [
    "df_merged.to_csv(os.path.join(path, 'Data', 'df_merged_cleaned.csv'))"
   ]
  },
  {
   "cell_type": "code",
   "execution_count": 169,
   "id": "cc93cba5-e6a2-41e0-9131-8b21ed20386f",
   "metadata": {},
   "outputs": [
    {
     "data": {
      "text/html": [
       "<div>\n",
       "<style scoped>\n",
       "    .dataframe tbody tr th:only-of-type {\n",
       "        vertical-align: middle;\n",
       "    }\n",
       "\n",
       "    .dataframe tbody tr th {\n",
       "        vertical-align: top;\n",
       "    }\n",
       "\n",
       "    .dataframe thead th {\n",
       "        text-align: right;\n",
       "    }\n",
       "</style>\n",
       "<table border=\"1\" class=\"dataframe\">\n",
       "  <thead>\n",
       "    <tr style=\"text-align: right;\">\n",
       "      <th></th>\n",
       "      <th>Unnamed: 0.1</th>\n",
       "      <th>Unnamed: 0</th>\n",
       "      <th>user_id</th>\n",
       "      <th>age</th>\n",
       "      <th>sex</th>\n",
       "      <th>country</th>\n",
       "      <th>checkin_date</th>\n",
       "      <th>trackable_id</th>\n",
       "      <th>trackable_type</th>\n",
       "      <th>trackable_name</th>\n",
       "      <th>...</th>\n",
       "      <th>condition</th>\n",
       "      <th>weather</th>\n",
       "      <th>severity</th>\n",
       "      <th>Age</th>\n",
       "      <th>precipitation</th>\n",
       "      <th>humidity</th>\n",
       "      <th>min_temp</th>\n",
       "      <th>max_temp</th>\n",
       "      <th>pressure</th>\n",
       "      <th>temp_change</th>\n",
       "    </tr>\n",
       "  </thead>\n",
       "  <tbody>\n",
       "    <tr>\n",
       "      <th>0</th>\n",
       "      <td>0</td>\n",
       "      <td>0</td>\n",
       "      <td>9070</td>\n",
       "      <td>0</td>\n",
       "      <td>NaN</td>\n",
       "      <td>NaN</td>\n",
       "      <td>2015-11-26</td>\n",
       "      <td>1069</td>\n",
       "      <td>Condition</td>\n",
       "      <td>Ulcerative colitis</td>\n",
       "      <td>...</td>\n",
       "      <td>Ulcerative colitis</td>\n",
       "      <td>NaN</td>\n",
       "      <td>0.0</td>\n",
       "      <td>34</td>\n",
       "      <td>NaN</td>\n",
       "      <td>NaN</td>\n",
       "      <td>NaN</td>\n",
       "      <td>NaN</td>\n",
       "      <td>NaN</td>\n",
       "      <td>NaN</td>\n",
       "    </tr>\n",
       "    <tr>\n",
       "      <th>1</th>\n",
       "      <td>1</td>\n",
       "      <td>1</td>\n",
       "      <td>22737</td>\n",
       "      <td>32</td>\n",
       "      <td>male</td>\n",
       "      <td>US</td>\n",
       "      <td>2015-11-26</td>\n",
       "      <td>1069</td>\n",
       "      <td>Condition</td>\n",
       "      <td>Ulcerative colitis</td>\n",
       "      <td>...</td>\n",
       "      <td>Ulcerative colitis</td>\n",
       "      <td>NaN</td>\n",
       "      <td>0.0</td>\n",
       "      <td>32</td>\n",
       "      <td>NaN</td>\n",
       "      <td>NaN</td>\n",
       "      <td>NaN</td>\n",
       "      <td>NaN</td>\n",
       "      <td>NaN</td>\n",
       "      <td>NaN</td>\n",
       "    </tr>\n",
       "    <tr>\n",
       "      <th>2</th>\n",
       "      <td>2</td>\n",
       "      <td>2</td>\n",
       "      <td>376</td>\n",
       "      <td>2</td>\n",
       "      <td>female</td>\n",
       "      <td>CA</td>\n",
       "      <td>2017-04-28</td>\n",
       "      <td>3168</td>\n",
       "      <td>Condition</td>\n",
       "      <td>pain in left upper arm felt like i was getting...</td>\n",
       "      <td>...</td>\n",
       "      <td>pain in left upper arm felt like i was getting...</td>\n",
       "      <td>NaN</td>\n",
       "      <td>4.0</td>\n",
       "      <td>2</td>\n",
       "      <td>0.0031</td>\n",
       "      <td>66.0</td>\n",
       "      <td>54.0</td>\n",
       "      <td>69.0</td>\n",
       "      <td>1012.0</td>\n",
       "      <td>15.0</td>\n",
       "    </tr>\n",
       "    <tr>\n",
       "      <th>3</th>\n",
       "      <td>2</td>\n",
       "      <td>2</td>\n",
       "      <td>376</td>\n",
       "      <td>2</td>\n",
       "      <td>female</td>\n",
       "      <td>CA</td>\n",
       "      <td>2017-04-28</td>\n",
       "      <td>3168</td>\n",
       "      <td>Condition</td>\n",
       "      <td>pain in left upper arm felt like i was getting...</td>\n",
       "      <td>...</td>\n",
       "      <td>pain in left upper arm felt like i was getting...</td>\n",
       "      <td>NaN</td>\n",
       "      <td>4.0</td>\n",
       "      <td>2</td>\n",
       "      <td>0.0031</td>\n",
       "      <td>66.0</td>\n",
       "      <td>54.0</td>\n",
       "      <td>69.0</td>\n",
       "      <td>1012.0</td>\n",
       "      <td>15.0</td>\n",
       "    </tr>\n",
       "    <tr>\n",
       "      <th>4</th>\n",
       "      <td>2</td>\n",
       "      <td>2</td>\n",
       "      <td>376</td>\n",
       "      <td>2</td>\n",
       "      <td>female</td>\n",
       "      <td>CA</td>\n",
       "      <td>2017-04-28</td>\n",
       "      <td>3168</td>\n",
       "      <td>Condition</td>\n",
       "      <td>pain in left upper arm felt like i was getting...</td>\n",
       "      <td>...</td>\n",
       "      <td>pain in left upper arm felt like i was getting...</td>\n",
       "      <td>NaN</td>\n",
       "      <td>4.0</td>\n",
       "      <td>2</td>\n",
       "      <td>0.0031</td>\n",
       "      <td>66.0</td>\n",
       "      <td>54.0</td>\n",
       "      <td>69.0</td>\n",
       "      <td>1012.0</td>\n",
       "      <td>15.0</td>\n",
       "    </tr>\n",
       "  </tbody>\n",
       "</table>\n",
       "<p>5 rows × 24 columns</p>\n",
       "</div>"
      ],
      "text/plain": [
       "   Unnamed: 0.1  Unnamed: 0  user_id  age     sex country checkin_date  \\\n",
       "0             0           0     9070    0     NaN     NaN   2015-11-26   \n",
       "1             1           1    22737   32    male      US   2015-11-26   \n",
       "2             2           2      376    2  female      CA   2017-04-28   \n",
       "3             2           2      376    2  female      CA   2017-04-28   \n",
       "4             2           2      376    2  female      CA   2017-04-28   \n",
       "\n",
       "  trackable_id trackable_type  \\\n",
       "0         1069      Condition   \n",
       "1         1069      Condition   \n",
       "2         3168      Condition   \n",
       "3         3168      Condition   \n",
       "4         3168      Condition   \n",
       "\n",
       "                                      trackable_name  ...  \\\n",
       "0                                 Ulcerative colitis  ...   \n",
       "1                                 Ulcerative colitis  ...   \n",
       "2  pain in left upper arm felt like i was getting...  ...   \n",
       "3  pain in left upper arm felt like i was getting...  ...   \n",
       "4  pain in left upper arm felt like i was getting...  ...   \n",
       "\n",
       "                                           condition  weather  severity Age  \\\n",
       "0                                 Ulcerative colitis      NaN       0.0  34   \n",
       "1                                 Ulcerative colitis      NaN       0.0  32   \n",
       "2  pain in left upper arm felt like i was getting...      NaN       4.0   2   \n",
       "3  pain in left upper arm felt like i was getting...      NaN       4.0   2   \n",
       "4  pain in left upper arm felt like i was getting...      NaN       4.0   2   \n",
       "\n",
       "  precipitation humidity  min_temp  max_temp  pressure  temp_change  \n",
       "0           NaN      NaN       NaN       NaN       NaN          NaN  \n",
       "1           NaN      NaN       NaN       NaN       NaN          NaN  \n",
       "2        0.0031     66.0      54.0      69.0    1012.0         15.0  \n",
       "3        0.0031     66.0      54.0      69.0    1012.0         15.0  \n",
       "4        0.0031     66.0      54.0      69.0    1012.0         15.0  \n",
       "\n",
       "[5 rows x 24 columns]"
      ]
     },
     "execution_count": 169,
     "metadata": {},
     "output_type": "execute_result"
    }
   ],
   "source": [
    "df_merged.head()"
   ]
  },
  {
   "cell_type": "code",
   "execution_count": 132,
   "id": "d07eb757-b3de-4683-aebe-5663aa1c3b87",
   "metadata": {},
   "outputs": [],
   "source": [
    "# Add a new column 'humidity' based on conditions\n",
    "df_merged['humidity'] = df_merged.loc[(df_merged['trackable_type'] == 'Weather') & (df_merged['trackable_name'] == 'humidity'), 'trackable_value']\n",
    "df_merged['min_temp'] = df_merged.loc[(df_merged['trackable_type'] == 'Weather') & (df_merged['trackable_name'] == 'temperature_min'), 'trackable_value']\n",
    "df_merged['max_temp'] = df_merged.loc[(df_merged['trackable_type'] == 'Weather') & (df_merged['trackable_name'] == 'temperature_max'), 'trackable_value']\n",
    "df_merged['pressure'] = df_merged.loc[(df_merged['trackable_type'] == 'Weather') & (df_merged['trackable_name'] == 'pressure'), 'trackable_value']"
   ]
  },
  {
   "cell_type": "code",
   "execution_count": 130,
   "id": "d747c4a4-09bb-4cfb-ad2e-f8b11faa26b4",
   "metadata": {},
   "outputs": [
    {
     "name": "stdout",
     "output_type": "stream",
     "text": [
      "['icon' 'temperature_min' 'temperature_max' 'precip_intensity' 'pressure'\n",
      " 'humidity']\n"
     ]
    }
   ],
   "source": [
    "weather_trackable_names = df_merged.loc[df_merged['trackable_type'] == 'Weather', 'trackable_name'].unique()\n",
    "print(weather_trackable_names)"
   ]
  },
  {
   "cell_type": "code",
   "execution_count": 144,
   "id": "8cc0370f-fb92-4af1-8862-e7448009744b",
   "metadata": {},
   "outputs": [
    {
     "name": "stdout",
     "output_type": "stream",
     "text": [
      "Unnamed: 0.1         int32\n",
      "Unnamed: 0           int32\n",
      "user_id              int32\n",
      "age                   int8\n",
      "sex                 object\n",
      "country             object\n",
      "checkin_date        object\n",
      "trackable_id        object\n",
      "trackable_type      object\n",
      "trackable_name      object\n",
      "trackable_value     object\n",
      "has_arthritis         int8\n",
      "pain_count            int8\n",
      "symptom             object\n",
      "condition           object\n",
      "weather             object\n",
      "severity             int32\n",
      "Age                   int8\n",
      "precipitation      float32\n",
      "humidity            object\n",
      "min_temp            object\n",
      "max_temp            object\n",
      "pressure            object\n",
      "dtype: object\n"
     ]
    }
   ],
   "source": [
    "# Identify numerical columns\n",
    "numerical_columns = df_merged.select_dtypes(include=['int', 'float']).columns\n",
    "\n",
    "# Convert numerical columns to the smallest appropriate data type\n",
    "for col in numerical_columns:\n",
    "    df_merged[col] = pd.to_numeric(df_merged[col], downcast='integer')\n",
    "\n",
    "# You can also use downcast='float' for floating point columns\n",
    "\n",
    "# Check the data types after conversion\n",
    "print(df_merged.dtypes)"
   ]
  },
  {
   "cell_type": "code",
   "execution_count": 147,
   "id": "0c999c65-1c27-4f45-bc63-263fb27f9b37",
   "metadata": {},
   "outputs": [
    {
     "name": "stdout",
     "output_type": "stream",
     "text": [
      "Unnamed: 0.1         int32\n",
      "Unnamed: 0           int32\n",
      "user_id              int32\n",
      "age                   int8\n",
      "sex                 object\n",
      "country             object\n",
      "checkin_date        object\n",
      "trackable_id        object\n",
      "trackable_type      object\n",
      "trackable_name      object\n",
      "trackable_value     object\n",
      "has_arthritis         int8\n",
      "pain_count            int8\n",
      "symptom             object\n",
      "condition           object\n",
      "weather             object\n",
      "severity           float32\n",
      "Age                   int8\n",
      "precipitation      float32\n",
      "humidity            object\n",
      "min_temp            object\n",
      "max_temp            object\n",
      "pressure            object\n",
      "dtype: object\n"
     ]
    }
   ],
   "source": [
    "# Identify numerical columns\n",
    "numerical_columns = df_merged.select_dtypes(include=['int', 'float']).columns\n",
    "\n",
    "# Convert numerical columns to the smallest appropriate data type\n",
    "for col in numerical_columns:\n",
    "    df_merged[col] = pd.to_numeric(df_merged[col], downcast='float')\n",
    "\n",
    "\n",
    "# Check the data types after conversion\n",
    "print(df_merged.dtypes)"
   ]
  },
  {
   "cell_type": "code",
   "execution_count": 149,
   "id": "4c49c1ca-88f5-4dab-afef-fee1a3c2890a",
   "metadata": {},
   "outputs": [],
   "source": [
    "df_merged['humidity'] = pd.to_numeric(df_merged['humidity'], errors='coerce')\n",
    "df_merged['min_temp'] = pd.to_numeric(df_merged['min_temp'], errors='coerce')\n",
    "df_merged['max_temp'] = pd.to_numeric(df_merged['max_temp'], errors='coerce')\n",
    "df_merged['pressure'] = pd.to_numeric(df_merged['pressure'], errors='coerce')"
   ]
  },
  {
   "cell_type": "code",
   "execution_count": 156,
   "id": "e02d6408-b2d2-4273-8c47-7986c50862b1",
   "metadata": {},
   "outputs": [],
   "source": [
    "# Convert the columns to numeric\n",
    "df_merged['humidity'] = pd.to_numeric(df_merged['humidity'], errors='coerce')\n",
    "df_merged['min_temp'] = pd.to_numeric(df_merged['min_temp'], errors='coerce')\n",
    "df_merged['max_temp'] = pd.to_numeric(df_merged['max_temp'], errors='coerce')\n",
    "df_merged['pressure'] = pd.to_numeric(df_merged['pressure'], errors='coerce')\n",
    "\n",
    "# Fill in missing values with the mean for each user_id and checkin_date\n",
    "df_merged['humidity'] = df_merged.groupby(['user_id', 'checkin_date'])['humidity'].transform(lambda x: x.fillna(x.mean()))\n",
    "df_merged['min_temp'] = df_merged.groupby(['user_id', 'checkin_date'])['min_temp'].transform(lambda x: x.fillna(x.mean()))\n",
    "df_merged['max_temp'] = df_merged.groupby(['user_id', 'checkin_date'])['max_temp'].transform(lambda x: x.fillna(x.mean()))\n",
    "df_merged['pressure'] = df_merged.groupby(['user_id', 'checkin_date'])['pressure'].transform(lambda x: x.fillna(x.mean()))"
   ]
  },
  {
   "cell_type": "code",
   "execution_count": 160,
   "id": "21bbe5d0-4c71-471d-9e64-5392349fa884",
   "metadata": {},
   "outputs": [],
   "source": [
    "df_merged['temp_change'] = df_merged['max_temp'] - df_merged['min_temp']"
   ]
  },
  {
   "cell_type": "code",
   "execution_count": 173,
   "id": "cf2721ea-9899-4d11-82b7-961a8e76e551",
   "metadata": {},
   "outputs": [
    {
     "data": {
      "text/html": [
       "<div>\n",
       "<style scoped>\n",
       "    .dataframe tbody tr th:only-of-type {\n",
       "        vertical-align: middle;\n",
       "    }\n",
       "\n",
       "    .dataframe tbody tr th {\n",
       "        vertical-align: top;\n",
       "    }\n",
       "\n",
       "    .dataframe thead th {\n",
       "        text-align: right;\n",
       "    }\n",
       "</style>\n",
       "<table border=\"1\" class=\"dataframe\">\n",
       "  <thead>\n",
       "    <tr style=\"text-align: right;\">\n",
       "      <th></th>\n",
       "      <th>user_id</th>\n",
       "      <th>age</th>\n",
       "      <th>has_arthritis</th>\n",
       "      <th>pain_count</th>\n",
       "      <th>severity</th>\n",
       "      <th>Age</th>\n",
       "      <th>precipitation</th>\n",
       "      <th>humidity</th>\n",
       "      <th>min_temp</th>\n",
       "      <th>max_temp</th>\n",
       "      <th>pressure</th>\n",
       "      <th>temp_change</th>\n",
       "    </tr>\n",
       "  </thead>\n",
       "  <tbody>\n",
       "    <tr>\n",
       "      <th>count</th>\n",
       "      <td>3.729479e+06</td>\n",
       "      <td>3.729479e+06</td>\n",
       "      <td>3.729479e+06</td>\n",
       "      <td>3.729479e+06</td>\n",
       "      <td>3.729479e+06</td>\n",
       "      <td>3.729479e+06</td>\n",
       "      <td>308302.000000</td>\n",
       "      <td>308446.000000</td>\n",
       "      <td>308446.000000</td>\n",
       "      <td>308446.000000</td>\n",
       "      <td>308446.000000</td>\n",
       "      <td>308446.000000</td>\n",
       "    </tr>\n",
       "    <tr>\n",
       "      <th>mean</th>\n",
       "      <td>2.163927e+04</td>\n",
       "      <td>3.327156e+01</td>\n",
       "      <td>1.560497e-01</td>\n",
       "      <td>1.228849e+00</td>\n",
       "      <td>1.012510e+02</td>\n",
       "      <td>3.558410e+01</td>\n",
       "      <td>0.002824</td>\n",
       "      <td>72.830343</td>\n",
       "      <td>44.043797</td>\n",
       "      <td>60.107633</td>\n",
       "      <td>1017.309523</td>\n",
       "      <td>16.063836</td>\n",
       "    </tr>\n",
       "    <tr>\n",
       "      <th>std</th>\n",
       "      <td>1.315659e+04</td>\n",
       "      <td>1.329557e+01</td>\n",
       "      <td>3.629025e-01</td>\n",
       "      <td>5.340560e-01</td>\n",
       "      <td>4.272639e+04</td>\n",
       "      <td>9.806479e+00</td>\n",
       "      <td>0.006228</td>\n",
       "      <td>11.931911</td>\n",
       "      <td>11.910604</td>\n",
       "      <td>13.854143</td>\n",
       "      <td>9.608423</td>\n",
       "      <td>6.300794</td>\n",
       "    </tr>\n",
       "    <tr>\n",
       "      <th>min</th>\n",
       "      <td>3.900000e+01</td>\n",
       "      <td>0.000000e+00</td>\n",
       "      <td>0.000000e+00</td>\n",
       "      <td>0.000000e+00</td>\n",
       "      <td>0.000000e+00</td>\n",
       "      <td>2.000000e+00</td>\n",
       "      <td>0.000000</td>\n",
       "      <td>21.000000</td>\n",
       "      <td>-1.000000</td>\n",
       "      <td>14.000000</td>\n",
       "      <td>986.000000</td>\n",
       "      <td>3.000000</td>\n",
       "    </tr>\n",
       "    <tr>\n",
       "      <th>25%</th>\n",
       "      <td>1.034400e+04</td>\n",
       "      <td>2.600000e+01</td>\n",
       "      <td>0.000000e+00</td>\n",
       "      <td>1.000000e+00</td>\n",
       "      <td>0.000000e+00</td>\n",
       "      <td>2.800000e+01</td>\n",
       "      <td>0.000100</td>\n",
       "      <td>65.000000</td>\n",
       "      <td>39.000000</td>\n",
       "      <td>53.000000</td>\n",
       "      <td>1011.000000</td>\n",
       "      <td>12.000000</td>\n",
       "    </tr>\n",
       "    <tr>\n",
       "      <th>50%</th>\n",
       "      <td>2.387500e+04</td>\n",
       "      <td>3.300000e+01</td>\n",
       "      <td>0.000000e+00</td>\n",
       "      <td>1.000000e+00</td>\n",
       "      <td>1.000000e+00</td>\n",
       "      <td>3.400000e+01</td>\n",
       "      <td>0.001000</td>\n",
       "      <td>75.000000</td>\n",
       "      <td>43.000000</td>\n",
       "      <td>59.000000</td>\n",
       "      <td>1017.000000</td>\n",
       "      <td>15.000000</td>\n",
       "    </tr>\n",
       "    <tr>\n",
       "      <th>75%</th>\n",
       "      <td>3.233800e+04</td>\n",
       "      <td>4.200000e+01</td>\n",
       "      <td>0.000000e+00</td>\n",
       "      <td>2.000000e+00</td>\n",
       "      <td>3.000000e+00</td>\n",
       "      <td>4.200000e+01</td>\n",
       "      <td>0.002700</td>\n",
       "      <td>82.000000</td>\n",
       "      <td>49.000000</td>\n",
       "      <td>63.000000</td>\n",
       "      <td>1025.000000</td>\n",
       "      <td>20.000000</td>\n",
       "    </tr>\n",
       "    <tr>\n",
       "      <th>max</th>\n",
       "      <td>4.226700e+04</td>\n",
       "      <td>9.000000e+01</td>\n",
       "      <td>1.000000e+00</td>\n",
       "      <td>2.000000e+00</td>\n",
       "      <td>2.000200e+07</td>\n",
       "      <td>9.000000e+01</td>\n",
       "      <td>0.081200</td>\n",
       "      <td>96.000000</td>\n",
       "      <td>81.000000</td>\n",
       "      <td>97.000000</td>\n",
       "      <td>1040.000000</td>\n",
       "      <td>34.000000</td>\n",
       "    </tr>\n",
       "  </tbody>\n",
       "</table>\n",
       "</div>"
      ],
      "text/plain": [
       "            user_id           age  has_arthritis    pain_count      severity  \\\n",
       "count  3.729479e+06  3.729479e+06   3.729479e+06  3.729479e+06  3.729479e+06   \n",
       "mean   2.163927e+04  3.327156e+01   1.560497e-01  1.228849e+00  1.012510e+02   \n",
       "std    1.315659e+04  1.329557e+01   3.629025e-01  5.340560e-01  4.272639e+04   \n",
       "min    3.900000e+01  0.000000e+00   0.000000e+00  0.000000e+00  0.000000e+00   \n",
       "25%    1.034400e+04  2.600000e+01   0.000000e+00  1.000000e+00  0.000000e+00   \n",
       "50%    2.387500e+04  3.300000e+01   0.000000e+00  1.000000e+00  1.000000e+00   \n",
       "75%    3.233800e+04  4.200000e+01   0.000000e+00  2.000000e+00  3.000000e+00   \n",
       "max    4.226700e+04  9.000000e+01   1.000000e+00  2.000000e+00  2.000200e+07   \n",
       "\n",
       "                Age  precipitation       humidity       min_temp  \\\n",
       "count  3.729479e+06  308302.000000  308446.000000  308446.000000   \n",
       "mean   3.558410e+01       0.002824      72.830343      44.043797   \n",
       "std    9.806479e+00       0.006228      11.931911      11.910604   \n",
       "min    2.000000e+00       0.000000      21.000000      -1.000000   \n",
       "25%    2.800000e+01       0.000100      65.000000      39.000000   \n",
       "50%    3.400000e+01       0.001000      75.000000      43.000000   \n",
       "75%    4.200000e+01       0.002700      82.000000      49.000000   \n",
       "max    9.000000e+01       0.081200      96.000000      81.000000   \n",
       "\n",
       "            max_temp       pressure    temp_change  \n",
       "count  308446.000000  308446.000000  308446.000000  \n",
       "mean       60.107633    1017.309523      16.063836  \n",
       "std        13.854143       9.608423       6.300794  \n",
       "min        14.000000     986.000000       3.000000  \n",
       "25%        53.000000    1011.000000      12.000000  \n",
       "50%        59.000000    1017.000000      15.000000  \n",
       "75%        63.000000    1025.000000      20.000000  \n",
       "max        97.000000    1040.000000      34.000000  "
      ]
     },
     "execution_count": 173,
     "metadata": {},
     "output_type": "execute_result"
    }
   ],
   "source": [
    "df_merged.describe()"
   ]
  },
  {
   "cell_type": "code",
   "execution_count": 171,
   "id": "b8f437ae-14f2-475a-a644-421576bceb3b",
   "metadata": {},
   "outputs": [],
   "source": [
    "df_merged = df_merged.drop(['Unnamed: 0.1', 'Unnamed: 0'], axis=1)"
   ]
  },
  {
   "cell_type": "code",
   "execution_count": 192,
   "id": "3ed4cef7-f9b7-4896-bd5a-d6300ad7b6d8",
   "metadata": {},
   "outputs": [],
   "source": [
    "pain_df = df_merged[df_merged['pain_count'] > 0]"
   ]
  },
  {
   "cell_type": "code",
   "execution_count": 212,
   "id": "e84d394f-de5b-49ee-9e80-ab19fdde2f0f",
   "metadata": {},
   "outputs": [
    {
     "data": {
      "text/html": [
       "<div>\n",
       "<style scoped>\n",
       "    .dataframe tbody tr th:only-of-type {\n",
       "        vertical-align: middle;\n",
       "    }\n",
       "\n",
       "    .dataframe tbody tr th {\n",
       "        vertical-align: top;\n",
       "    }\n",
       "\n",
       "    .dataframe thead th {\n",
       "        text-align: right;\n",
       "    }\n",
       "</style>\n",
       "<table border=\"1\" class=\"dataframe\">\n",
       "  <thead>\n",
       "    <tr style=\"text-align: right;\">\n",
       "      <th></th>\n",
       "      <th>user_id</th>\n",
       "      <th>age</th>\n",
       "      <th>has_arthritis</th>\n",
       "      <th>pain_count</th>\n",
       "      <th>severity</th>\n",
       "      <th>Age</th>\n",
       "      <th>precipitation</th>\n",
       "      <th>humidity</th>\n",
       "      <th>min_temp</th>\n",
       "      <th>max_temp</th>\n",
       "      <th>pressure</th>\n",
       "      <th>temp_change</th>\n",
       "    </tr>\n",
       "  </thead>\n",
       "  <tbody>\n",
       "    <tr>\n",
       "      <th>count</th>\n",
       "      <td>3.526710e+06</td>\n",
       "      <td>3.526710e+06</td>\n",
       "      <td>3.526710e+06</td>\n",
       "      <td>3.526710e+06</td>\n",
       "      <td>3.526710e+06</td>\n",
       "      <td>3.526710e+06</td>\n",
       "      <td>292438.000000</td>\n",
       "      <td>292582.000000</td>\n",
       "      <td>292582.000000</td>\n",
       "      <td>292582.000000</td>\n",
       "      <td>292582.000000</td>\n",
       "      <td>292582.000000</td>\n",
       "    </tr>\n",
       "    <tr>\n",
       "      <th>mean</th>\n",
       "      <td>2.144078e+04</td>\n",
       "      <td>3.360265e+01</td>\n",
       "      <td>1.639755e-01</td>\n",
       "      <td>1.299502e+00</td>\n",
       "      <td>1.083720e+02</td>\n",
       "      <td>3.564736e+01</td>\n",
       "      <td>0.002665</td>\n",
       "      <td>72.636902</td>\n",
       "      <td>43.668578</td>\n",
       "      <td>59.698532</td>\n",
       "      <td>1017.538796</td>\n",
       "      <td>16.029954</td>\n",
       "    </tr>\n",
       "    <tr>\n",
       "      <th>std</th>\n",
       "      <td>1.330017e+04</td>\n",
       "      <td>1.310856e+01</td>\n",
       "      <td>3.702534e-01</td>\n",
       "      <td>4.580400e-01</td>\n",
       "      <td>4.393749e+04</td>\n",
       "      <td>9.987887e+00</td>\n",
       "      <td>0.005760</td>\n",
       "      <td>11.917414</td>\n",
       "      <td>11.504830</td>\n",
       "      <td>13.541185</td>\n",
       "      <td>9.683798</td>\n",
       "      <td>6.325142</td>\n",
       "    </tr>\n",
       "    <tr>\n",
       "      <th>min</th>\n",
       "      <td>3.900000e+01</td>\n",
       "      <td>0.000000e+00</td>\n",
       "      <td>0.000000e+00</td>\n",
       "      <td>1.000000e+00</td>\n",
       "      <td>1.000000e+00</td>\n",
       "      <td>2.000000e+00</td>\n",
       "      <td>0.000000</td>\n",
       "      <td>21.000000</td>\n",
       "      <td>0.000000</td>\n",
       "      <td>14.000000</td>\n",
       "      <td>986.000000</td>\n",
       "      <td>3.000000</td>\n",
       "    </tr>\n",
       "    <tr>\n",
       "      <th>25%</th>\n",
       "      <td>9.994000e+03</td>\n",
       "      <td>2.600000e+01</td>\n",
       "      <td>0.000000e+00</td>\n",
       "      <td>1.000000e+00</td>\n",
       "      <td>1.000000e+00</td>\n",
       "      <td>2.800000e+01</td>\n",
       "      <td>0.000100</td>\n",
       "      <td>65.000000</td>\n",
       "      <td>39.000000</td>\n",
       "      <td>53.000000</td>\n",
       "      <td>1012.000000</td>\n",
       "      <td>12.000000</td>\n",
       "    </tr>\n",
       "    <tr>\n",
       "      <th>50%</th>\n",
       "      <td>2.285900e+04</td>\n",
       "      <td>3.300000e+01</td>\n",
       "      <td>0.000000e+00</td>\n",
       "      <td>1.000000e+00</td>\n",
       "      <td>2.000000e+00</td>\n",
       "      <td>3.400000e+01</td>\n",
       "      <td>0.001000</td>\n",
       "      <td>75.000000</td>\n",
       "      <td>43.000000</td>\n",
       "      <td>59.000000</td>\n",
       "      <td>1018.000000</td>\n",
       "      <td>15.000000</td>\n",
       "    </tr>\n",
       "    <tr>\n",
       "      <th>75%</th>\n",
       "      <td>3.339800e+04</td>\n",
       "      <td>4.300000e+01</td>\n",
       "      <td>0.000000e+00</td>\n",
       "      <td>2.000000e+00</td>\n",
       "      <td>4.000000e+00</td>\n",
       "      <td>4.300000e+01</td>\n",
       "      <td>0.002400</td>\n",
       "      <td>82.000000</td>\n",
       "      <td>48.000000</td>\n",
       "      <td>63.000000</td>\n",
       "      <td>1025.000000</td>\n",
       "      <td>20.000000</td>\n",
       "    </tr>\n",
       "    <tr>\n",
       "      <th>max</th>\n",
       "      <td>4.226700e+04</td>\n",
       "      <td>9.000000e+01</td>\n",
       "      <td>1.000000e+00</td>\n",
       "      <td>2.000000e+00</td>\n",
       "      <td>2.000200e+07</td>\n",
       "      <td>9.000000e+01</td>\n",
       "      <td>0.047500</td>\n",
       "      <td>94.000000</td>\n",
       "      <td>77.000000</td>\n",
       "      <td>96.000000</td>\n",
       "      <td>1040.000000</td>\n",
       "      <td>33.000000</td>\n",
       "    </tr>\n",
       "  </tbody>\n",
       "</table>\n",
       "</div>"
      ],
      "text/plain": [
       "            user_id           age  has_arthritis    pain_count      severity  \\\n",
       "count  3.526710e+06  3.526710e+06   3.526710e+06  3.526710e+06  3.526710e+06   \n",
       "mean   2.144078e+04  3.360265e+01   1.639755e-01  1.299502e+00  1.083720e+02   \n",
       "std    1.330017e+04  1.310856e+01   3.702534e-01  4.580400e-01  4.393749e+04   \n",
       "min    3.900000e+01  0.000000e+00   0.000000e+00  1.000000e+00  1.000000e+00   \n",
       "25%    9.994000e+03  2.600000e+01   0.000000e+00  1.000000e+00  1.000000e+00   \n",
       "50%    2.285900e+04  3.300000e+01   0.000000e+00  1.000000e+00  2.000000e+00   \n",
       "75%    3.339800e+04  4.300000e+01   0.000000e+00  2.000000e+00  4.000000e+00   \n",
       "max    4.226700e+04  9.000000e+01   1.000000e+00  2.000000e+00  2.000200e+07   \n",
       "\n",
       "                Age  precipitation       humidity       min_temp  \\\n",
       "count  3.526710e+06  292438.000000  292582.000000  292582.000000   \n",
       "mean   3.564736e+01       0.002665      72.636902      43.668578   \n",
       "std    9.987887e+00       0.005760      11.917414      11.504830   \n",
       "min    2.000000e+00       0.000000      21.000000       0.000000   \n",
       "25%    2.800000e+01       0.000100      65.000000      39.000000   \n",
       "50%    3.400000e+01       0.001000      75.000000      43.000000   \n",
       "75%    4.300000e+01       0.002400      82.000000      48.000000   \n",
       "max    9.000000e+01       0.047500      94.000000      77.000000   \n",
       "\n",
       "            max_temp       pressure    temp_change  \n",
       "count  292582.000000  292582.000000  292582.000000  \n",
       "mean       59.698532    1017.538796      16.029954  \n",
       "std        13.541185       9.683798       6.325142  \n",
       "min        14.000000     986.000000       3.000000  \n",
       "25%        53.000000    1012.000000      12.000000  \n",
       "50%        59.000000    1018.000000      15.000000  \n",
       "75%        63.000000    1025.000000      20.000000  \n",
       "max        96.000000    1040.000000      33.000000  "
      ]
     },
     "execution_count": 212,
     "metadata": {},
     "output_type": "execute_result"
    }
   ],
   "source": [
    "pain_df.describe()"
   ]
  },
  {
   "cell_type": "code",
   "execution_count": 206,
   "id": "ee517dc2-656e-43b3-8a37-c9831b56975b",
   "metadata": {},
   "outputs": [],
   "source": [
    "df_merged['severity'] = df_merged['severity'] + df_merged['pain_count']"
   ]
  },
  {
   "cell_type": "code",
   "execution_count": 202,
   "id": "cc670d73-8432-4048-867a-65c8833569b5",
   "metadata": {},
   "outputs": [
    {
     "name": "stderr",
     "output_type": "stream",
     "text": [
      "C:\\Users\\tiffk\\AppData\\Local\\Temp\\ipykernel_23352\\3948556098.py:1: SettingWithCopyWarning: \n",
      "A value is trying to be set on a copy of a slice from a DataFrame.\n",
      "Try using .loc[row_indexer,col_indexer] = value instead\n",
      "\n",
      "See the caveats in the documentation: https://pandas.pydata.org/pandas-docs/stable/user_guide/indexing.html#returning-a-view-versus-a-copy\n",
      "  pain_df['severity'] = pain_df['severity'] + pain_df['pain_count']\n"
     ]
    }
   ],
   "source": [
    "pain_df['severity'] = pain_df['severity'] + pain_df['pain_count']"
   ]
  },
  {
   "cell_type": "code",
   "execution_count": 104,
   "id": "8f625c9b-0d86-4690-9dbc-8ed2a3c8df7a",
   "metadata": {},
   "outputs": [
    {
     "name": "stderr",
     "output_type": "stream",
     "text": [
      "C:\\Users\\tiffk\\AppData\\Local\\Temp\\ipykernel_23352\\2397968465.py:1: UserWarning: \n",
      "\n",
      "`distplot` is a deprecated function and will be removed in seaborn v0.14.0.\n",
      "\n",
      "Please adapt your code to use either `displot` (a figure-level function with\n",
      "similar flexibility) or `histplot` (an axes-level function for histograms).\n",
      "\n",
      "For a guide to updating your code to use the new functions, please see\n",
      "https://gist.github.com/mwaskom/de44147ed2974457ad6372750bbe5751\n",
      "\n",
      "  sns.distplot(df_merged['Age'], bins=25) # Shows extreme values\n",
      "C:\\Users\\tiffk\\anaconda3\\Lib\\site-packages\\seaborn\\_oldcore.py:1119: FutureWarning: use_inf_as_na option is deprecated and will be removed in a future version. Convert inf values to NaN before operating instead.\n",
      "  with pd.option_context('mode.use_inf_as_na', True):\n"
     ]
    },
    {
     "data": {
      "text/plain": [
       "<Axes: xlabel='Age', ylabel='Density'>"
      ]
     },
     "execution_count": 104,
     "metadata": {},
     "output_type": "execute_result"
    },
    {
     "data": {
      "image/png": "[encoded data removed]",
      "text/plain": [
       "<Figure size 640x480 with 1 Axes>"
      ]
     },
     "metadata": {},
     "output_type": "display_data"
    }
   ],
   "source": [
    "sns.distplot(df_merged['Age'], bins=25) # Shows extreme values\n",
    "\n",
    "# Some of the outliers may need to be removed"
   ]
  },
  {
   "cell_type": "code",
   "execution_count": 106,
   "id": "d0c76ea9-4fb2-40a3-a1b3-7f32a567981b",
   "metadata": {},
   "outputs": [
    {
     "name": "stderr",
     "output_type": "stream",
     "text": [
      "C:\\Users\\tiffk\\AppData\\Local\\Temp\\ipykernel_23352\\2669125851.py:1: UserWarning: \n",
      "\n",
      "`distplot` is a deprecated function and will be removed in seaborn v0.14.0.\n",
      "\n",
      "Please adapt your code to use either `displot` (a figure-level function with\n",
      "similar flexibility) or `histplot` (an axes-level function for histograms).\n",
      "\n",
      "For a guide to updating your code to use the new functions, please see\n",
      "https://gist.github.com/mwaskom/de44147ed2974457ad6372750bbe5751\n",
      "\n",
      "  sns.distplot(df_merged['precipitation'], bins=25) # Shows extreme values\n",
      "C:\\Users\\tiffk\\anaconda3\\Lib\\site-packages\\seaborn\\_oldcore.py:1119: FutureWarning: use_inf_as_na option is deprecated and will be removed in a future version. Convert inf values to NaN before operating instead.\n",
      "  with pd.option_context('mode.use_inf_as_na', True):\n"
     ]
    },
    {
     "data": {
      "text/plain": [
       "<Axes: xlabel='precipitation', ylabel='Density'>"
      ]
     },
     "execution_count": 106,
     "metadata": {},
     "output_type": "execute_result"
    },
    {
     "data": {
      "image/png": "[encoded data removed]",
      "text/plain": [
       "<Figure size 640x480 with 1 Axes>"
      ]
     },
     "metadata": {},
     "output_type": "display_data"
    }
   ],
   "source": [
    "sns.distplot(df_merged['precipitation'], bins=25) # Shows extreme values\n",
    "\n",
    "# Some of the outliers may need to be removed"
   ]
  },
  {
   "cell_type": "markdown",
   "id": "b26d3dad-9fa2-45cf-ad29-42e3fdde4403",
   "metadata": {},
   "source": [
    "## Explore the data visually with scatter plots"
   ]
  },
  {
   "cell_type": "code",
   "execution_count": 208,
   "id": "d3d49dc7-8c84-41af-b5b8-077c9a3cb95c",
   "metadata": {},
   "outputs": [
    {
     "data": {
      "image/png": "[encoded data removed]",
      "text/plain": [
       "<Figure size 640x480 with 1 Axes>"
      ]
     },
     "metadata": {},
     "output_type": "display_data"
    }
   ],
   "source": [
    "# Create a scatterplot using matplotlib for another look at how the chosen variables plot against each other.\n",
    "df_merged.plot(x = 'precipitation', y='severity',style='o') # The style option creates a scatterplot; without it, we only have lines.\n",
    "plt.title('Precipitation and Reported Pain Severity')  \n",
    "plt.xlabel('Precipitation')  \n",
    "plt.ylabel('Severity')  \n",
    "plt.show()"
   ]
  },
  {
   "cell_type": "code",
   "execution_count": 210,
   "id": "6c26db7e-e206-4553-b7e9-f6f6208e4a49",
   "metadata": {},
   "outputs": [
    {
     "data": {
      "image/png": "[encoded data removed]",
      "text/plain": [
       "<Figure size 640x480 with 1 Axes>"
      ]
     },
     "metadata": {},
     "output_type": "display_data"
    }
   ],
   "source": [
    "pain_df.plot(x = 'precipitation', y='severity',style='o') # The style option creates a scatterplot; without it, we only have lines.\n",
    "plt.title('Precipitation and Reported Pain Severity')  \n",
    "plt.xlabel('Precipitation')  \n",
    "plt.ylabel('Severity')  \n",
    "plt.show()"
   ]
  },
  {
   "cell_type": "code",
   "execution_count": 216,
   "id": "1b2bfe06-edd7-4262-ac10-39ec83ddd8a9",
   "metadata": {},
   "outputs": [
    {
     "data": {
      "image/png": "[encoded data removed]",
      "text/plain": [
       "<Figure size 640x480 with 1 Axes>"
      ]
     },
     "metadata": {},
     "output_type": "display_data"
    }
   ],
   "source": [
    "# Filter the data for values greater than 0 for Age and non-zero for severity\n",
    "filtered_data = pain_df[(pain_df['Age'] > 0)]\n",
    "\n",
    "# Create a scatterplot using matplotlib\n",
    "filtered_data.plot(x='Age', y='severity', style='o')  # The style option creates a scatterplot; without it, we only have lines.\n",
    "plt.title('Age and Reported Pain Severity')  \n",
    "plt.xlabel('Age')  \n",
    "plt.ylabel('Severity')  \n",
    "plt.show()"
   ]
  },
  {
   "cell_type": "code",
   "execution_count": 220,
   "id": "4ad9937a-cb1b-4162-99ee-1d7d86931771",
   "metadata": {},
   "outputs": [
    {
     "data": {
      "image/png": "[encoded data removed]",
      "text/plain": [
       "<Figure size 640x480 with 1 Axes>"
      ]
     },
     "metadata": {},
     "output_type": "display_data"
    }
   ],
   "source": [
    "# Create a scatterplot using matplotlib for another look at how the chosen variables plot against each other.\n",
    "pain_df.plot(x = 'temp_change', y='severity',style='o') # The style option creates a scatterplot; without it, we only have lines.\n",
    "plt.title('Temp Change and Reported Pain Severity')  \n",
    "plt.xlabel('temp_change')  \n",
    "plt.ylabel('Severity')  \n",
    "plt.show()"
   ]
  },
  {
   "cell_type": "code",
   "execution_count": 232,
   "id": "52e861f0-a648-4dc8-999f-370f7d3760d6",
   "metadata": {},
   "outputs": [
    {
     "data": {
      "image/png": "[encoded data removed]",
      "text/plain": [
       "<Figure size 640x480 with 1 Axes>"
      ]
     },
     "metadata": {},
     "output_type": "display_data"
    }
   ],
   "source": [
    "# Create a scatterplot using matplotlib for another look at how the chosen variables plot against each other.\n",
    "pain_df.plot(x = 'pressure', y='severity',style='o') # The style option creates a scatterplot; without it, we only have lines.\n",
    "plt.title('Pressure and Reported Pain Severity')  \n",
    "plt.xlabel('pressure')  \n",
    "plt.ylabel('Severity')  \n",
    "plt.show()"
   ]
  },
  {
   "cell_type": "code",
   "execution_count": 64,
   "id": "55411305-1a54-411b-a151-4b5565121cbf",
   "metadata": {},
   "outputs": [
    {
     "data": {
      "image/png": "[encoded data removed]",
      "text/plain": [
       "<Figure size 800x600 with 1 Axes>"
      ]
     },
     "metadata": {},
     "output_type": "display_data"
    }
   ],
   "source": [
    "# Filter the DataFrame to include only rows where pain_count is not 0\n",
    "condition_data = df_merged[df_merged['precipitation'] > 0]\n",
    "\n",
    "# Create a scatter plot of 'precipitation' against 'pain_count' for the filtered data\n",
    "plt.figure(figsize=(8, 6))\n",
    "sns.scatterplot(x='precipitation', y='severity', data=condition_data)\n",
    "plt.xlabel('Precipitation')\n",
    "plt.ylabel('Severity')\n",
    "plt.title('Relationship between Precipitation and Pain Severity')\n",
    "plt.show()"
   ]
  },
  {
   "cell_type": "markdown",
   "id": "c3d23ef9-a7a4-4993-ba4f-362613ace172",
   "metadata": {},
   "source": [
    "## Hypothesis"
   ]
  },
  {
   "cell_type": "markdown",
   "id": "f9892c06-20d4-434e-947d-a4b05fbba3e3",
   "metadata": {},
   "source": [
    "**A note about bias first: I know that we were advised that choosing something that we had a personal connection to would help motivate us and give us better insights into the analysis, but I am finding that my experiences are introducing bias into my efforts. Even if my experiences are anecdotal when taken alone, I am trying to extrapolate up to the gloable experiences of pain. To an extent I feel like I  KNOW there is a relationship hidden in here, but I am beginning to realize it must be more multivariate**"
   ]
  },
  {
   "cell_type": "markdown",
   "id": "a9d9031f-d050-4c6b-8ab5-868a39d4add2",
   "metadata": {},
   "source": [
    "**I predict that a relationship exists between precipitation/humidity/pressure and reported pain.**"
   ]
  },
  {
   "cell_type": "markdown",
   "id": "8399a522-598f-44f0-b88d-a6eca4dfaa18",
   "metadata": {},
   "source": [
    "**After running through this I realize I am neglecting possible seasonal experiences and I can evaluate these by breaking the checkin_date values into months and years. Anecdotal evidence would say that colder months cause certain types of pain to increase.**"
   ]
  },
  {
   "cell_type": "markdown",
   "id": "60ebc188-3ef5-49d3-a32e-19400d2f9241",
   "metadata": {},
   "source": [
    "**The users in the data are  predominately female and that could be because females are more susceptible to symptoms or are more likely to pay attention to and report health issues. As a control of sorts I could find another self reported data source related to physical welbbeing but not pain to see if there is a more balanced gender distribution.**"
   ]
  },
  {
   "cell_type": "markdown",
   "id": "b91fb768-68f9-47d3-9d58-0c94ecdc57e0",
   "metadata": {},
   "source": [
    "**Spoiler alert**, none of the relationships analysed showed a strong predicatble pattern that could be sussed out with linear regression. I think multivariate analysis would be better for this data"
   ]
  },
  {
   "cell_type": "markdown",
   "id": "4f1b67ae-e980-46c6-aa0c-2602c6dac5ca",
   "metadata": {},
   "source": [
    "## Reshape the data"
   ]
  },
  {
   "cell_type": "code",
   "execution_count": 70,
   "id": "dc251d7a-7723-4f44-bd47-362cef09cd0c",
   "metadata": {},
   "outputs": [],
   "source": [
    "# Define the independent variable (x) and the dependent variable (y)\n",
    "X = df_merged['severity'].values.reshape(-1, 1)\n",
    "y = df_merged['precipitation'].values.reshape(-1, 1)"
   ]
  },
  {
   "cell_type": "markdown",
   "id": "4afbf447-f7da-4859-b974-486c52d48450",
   "metadata": {},
   "source": [
    "## Split into training and test sets"
   ]
  },
  {
   "cell_type": "code",
   "execution_count": 74,
   "id": "284a5e4f-789e-46c6-b8a0-c86aee3648af",
   "metadata": {},
   "outputs": [],
   "source": [
    "# 70% training, 30% test\n",
    "X_train, X_test, y_train, y_test = train_test_split(X, y, test_size=0.3, random_state=18)"
   ]
  },
  {
   "cell_type": "code",
   "execution_count": 77,
   "id": "230fa0dc-cd9d-4b49-b69b-f440334f30c6",
   "metadata": {},
   "outputs": [
    {
     "name": "stdout",
     "output_type": "stream",
     "text": [
      "X_train shape: (2610635, 1)\n",
      "X_test shape: (1118844, 1)\n",
      "y_train shape: (2610635, 1)\n",
      "y_test shape: (1118844, 1)\n"
     ]
    }
   ],
   "source": [
    "# Verify the shape of the training and test sets\n",
    "print(f'X_train shape: {X_train.shape}')\n",
    "print(f'X_test shape: {X_test.shape}')\n",
    "print(f'y_train shape: {y_train.shape}')\n",
    "print(f'y_test shape: {y_test.shape}')"
   ]
  },
  {
   "cell_type": "markdown",
   "id": "a42615b6-804c-4cca-9c7c-3b24de90fc65",
   "metadata": {},
   "source": [
    "## Run linear regression"
   ]
  },
  {
   "cell_type": "code",
   "execution_count": 82,
   "id": "523abb2a-f740-44b9-9e8c-98adfe39c19d",
   "metadata": {},
   "outputs": [],
   "source": [
    "# Initialize the linear regression model\n",
    "regression = LinearRegression()"
   ]
  },
  {
   "cell_type": "code",
   "execution_count": 92,
   "id": "d11c28df-b20f-4f44-845e-de87be9c550d",
   "metadata": {},
   "outputs": [
    {
     "data": {
      "text/html": [
       "<style>#sk-container-id-1 {color: black;background-color: white;}#sk-container-id-1 pre{padding: 0;}#sk-container-id-1 div.sk-toggleable {background-color: white;}#sk-container-id-1 label.sk-toggleable__label {cursor: pointer;display: block;width: 100%;margin-bottom: 0;padding: 0.3em;box-sizing: border-box;text-align: center;}#sk-container-id-1 label.sk-toggleable__label-arrow:before {content: \"▸\";float: left;margin-right: 0.25em;color: #696969;}#sk-container-id-1 label.sk-toggleable__label-arrow:hover:before {color: black;}#sk-container-id-1 div.sk-estimator:hover label.sk-toggleable__label-arrow:before {color: black;}#sk-container-id-1 div.sk-toggleable__content {max-height: 0;max-width: 0;overflow: hidden;text-align: left;background-color: #f0f8ff;}#sk-container-id-1 div.sk-toggleable__content pre {margin: 0.2em;color: black;border-radius: 0.25em;background-color: #f0f8ff;}#sk-container-id-1 input.sk-toggleable__control:checked~div.sk-toggleable__content {max-height: 200px;max-width: 100%;overflow: auto;}#sk-container-id-1 input.sk-toggleable__control:checked~label.sk-toggleable__label-arrow:before {content: \"▾\";}#sk-container-id-1 div.sk-estimator input.sk-toggleable__control:checked~label.sk-toggleable__label {background-color: #d4ebff;}#sk-container-id-1 div.sk-label input.sk-toggleable__control:checked~label.sk-toggleable__label {background-color: #d4ebff;}#sk-container-id-1 input.sk-hidden--visually {border: 0;clip: rect(1px 1px 1px 1px);clip: rect(1px, 1px, 1px, 1px);height: 1px;margin: -1px;overflow: hidden;padding: 0;position: absolute;width: 1px;}#sk-container-id-1 div.sk-estimator {font-family: monospace;background-color: #f0f8ff;border: 1px dotted black;border-radius: 0.25em;box-sizing: border-box;margin-bottom: 0.5em;}#sk-container-id-1 div.sk-estimator:hover {background-color: #d4ebff;}#sk-container-id-1 div.sk-parallel-item::after {content: \"\";width: 100%;border-bottom: 1px solid gray;flex-grow: 1;}#sk-container-id-1 div.sk-label:hover label.sk-toggleable__label {background-color: #d4ebff;}#sk-container-id-1 div.sk-serial::before {content: \"\";position: absolute;border-left: 1px solid gray;box-sizing: border-box;top: 0;bottom: 0;left: 50%;z-index: 0;}#sk-container-id-1 div.sk-serial {display: flex;flex-direction: column;align-items: center;background-color: white;padding-right: 0.2em;padding-left: 0.2em;position: relative;}#sk-container-id-1 div.sk-item {position: relative;z-index: 1;}#sk-container-id-1 div.sk-parallel {display: flex;align-items: stretch;justify-content: center;background-color: white;position: relative;}#sk-container-id-1 div.sk-item::before, #sk-container-id-1 div.sk-parallel-item::before {content: \"\";position: absolute;border-left: 1px solid gray;box-sizing: border-box;top: 0;bottom: 0;left: 50%;z-index: -1;}#sk-container-id-1 div.sk-parallel-item {display: flex;flex-direction: column;z-index: 1;position: relative;background-color: white;}#sk-container-id-1 div.sk-parallel-item:first-child::after {align-self: flex-end;width: 50%;}#sk-container-id-1 div.sk-parallel-item:last-child::after {align-self: flex-start;width: 50%;}#sk-container-id-1 div.sk-parallel-item:only-child::after {width: 0;}#sk-container-id-1 div.sk-dashed-wrapped {border: 1px dashed gray;margin: 0 0.4em 0.5em 0.4em;box-sizing: border-box;padding-bottom: 0.4em;background-color: white;}#sk-container-id-1 div.sk-label label {font-family: monospace;font-weight: bold;display: inline-block;line-height: 1.2em;}#sk-container-id-1 div.sk-label-container {text-align: center;}#sk-container-id-1 div.sk-container {/* jupyter's `normalize.less` sets `[hidden] { display: none; }` but bootstrap.min.css set `[hidden] { display: none !important; }` so we also need the `!important` here to be able to override the default hidden behavior on the sphinx rendered scikit-learn.org. See: https://github.com/scikit-learn/scikit-learn/issues/21755 */display: inline-block !important;position: relative;}#sk-container-id-1 div.sk-text-repr-fallback {display: none;}</style><div id=\"sk-container-id-1\" class=\"sk-top-container\"><div class=\"sk-text-repr-fallback\"><pre>LinearRegression()</pre><b>In a Jupyter environment, please rerun this cell to show the HTML representation or trust the notebook. <br />On GitHub, the HTML representation is unable to render, please try loading this page with nbviewer.org.</b></div><div class=\"sk-container\" hidden><div class=\"sk-item\"><div class=\"sk-estimator sk-toggleable\"><input class=\"sk-toggleable__control sk-hidden--visually\" id=\"sk-estimator-id-1\" type=\"checkbox\" checked><label for=\"sk-estimator-id-1\" class=\"sk-toggleable__label sk-toggleable__label-arrow\">LinearRegression</label><div class=\"sk-toggleable__content\"><pre>LinearRegression()</pre></div></div></div></div></div>"
      ],
      "text/plain": [
       "LinearRegression()"
      ]
     },
     "execution_count": 92,
     "metadata": {},
     "output_type": "execute_result"
    }
   ],
   "source": [
    "# Remove NaN values from y_train\n",
    "import numpy as np\n",
    "X_train = X_train[~np.isnan(y_train)]\n",
    "y_train = y_train[~np.isnan(y_train)]\n",
    "\n",
    "# Reshape the arrays to 2D\n",
    "X_train = X_train.reshape(-1, 1)\n",
    "y_train = y_train.reshape(-1, 1)\n",
    "\n",
    "# Fit the model to the training data\n",
    "regression.fit(X_train, y_train)"
   ]
  },
  {
   "cell_type": "code",
   "execution_count": 94,
   "id": "70215012-2897-4f09-a7f0-013663fc7536",
   "metadata": {},
   "outputs": [],
   "source": [
    "# Predict on the test data\n",
    "y_pred = regression.predict(X_test)"
   ]
  },
  {
   "cell_type": "markdown",
   "id": "840b4338-eb04-48c7-89ca-1a03095f7e55",
   "metadata": {},
   "source": [
    "## Visualize the results"
   ]
  },
  {
   "cell_type": "code",
   "execution_count": 100,
   "id": "6006a328-e8c4-4abd-8af9-23f96d78c7c2",
   "metadata": {},
   "outputs": [
    {
     "data": {
      "image/png": "[encoded data removed]",
      "text/plain": [
       "<Figure size 1000x600 with 1 Axes>"
      ]
     },
     "metadata": {},
     "output_type": "display_data"
    },
    {
     "data": {
      "text/plain": [
       "<Figure size 640x480 with 0 Axes>"
      ]
     },
     "metadata": {},
     "output_type": "display_data"
    }
   ],
   "source": [
    "# Plot actual vs predicted values to visualize model performance\n",
    "plt.figure(figsize=(10, 6))\n",
    "plt.scatter(X_test, y_test, color='blue', label='Actual Data')\n",
    "plt.plot(X_test, y_pred, color='red', linewidth=2, label='Regression Line')\n",
    "plt.title('Regression Line on Test Set')\n",
    "plt.xlabel('Severity')\n",
    "plt.ylabel('Precipitation')\n",
    "plt.legend()\n",
    "plt.show()\n",
    "\n",
    "# Export to the \"Visualizations\" folder\n",
    "file_name = os.path.join(path, 'Visuals', 'regression_line_test_setA.png')\n",
    "plt.savefig(file_name)"
   ]
  },
  {
   "cell_type": "code",
   "execution_count": 244,
   "id": "145b086c-a7ef-450e-932e-497aa4ea9642",
   "metadata": {},
   "outputs": [
    {
     "data": {
      "image/png": "[encoded data removed]",
      "text/plain": [
       "<Figure size 640x480 with 1 Axes>"
      ]
     },
     "metadata": {},
     "output_type": "display_data"
    }
   ],
   "source": [
    "# Create a plot that shows the regression line from the model on the test set.\n",
    "plot_test = plt\n",
    "plot_test.scatter(X_test, y_test, color='gray', s = 15)\n",
    "plot_test.plot(X_test, y_pred, color='red', linewidth =3)\n",
    "plot_test.title('Severity vs Precipitation (Test set)')\n",
    "plot_test.xlabel('Severity')\n",
    "plot_test.ylabel('Precipitation')\n",
    "plot_test.show()"
   ]
  },
  {
   "cell_type": "code",
   "execution_count": 249,
   "id": "4de04d8c-889f-4b57-8cdf-9d86aed7ffbc",
   "metadata": {},
   "outputs": [],
   "source": [
    "# to remove rows with NaN values\n",
    "import numpy as np\n",
    "from sklearn.metrics import mean_squared_error, r2_score\n",
    "\n",
    "# Remove rows with NaN values from y_test and y_pred\n",
    "nan_indices = np.isnan(y_test) | np.isnan(y_pred)\n",
    "y_test = y_test[~nan_indices]\n",
    "y_pred = y_pred[~nan_indices]\n",
    "\n",
    "# Calculate the model summary statistics\n",
    "rmse = mean_squared_error(y_test, y_pred)  # This is the mean squared error\n",
    "r2 = r2_score(y_test, y_pred)  # This is the R2 score."
   ]
  },
  {
   "cell_type": "code",
   "execution_count": 252,
   "id": "efe66f1f-a3cb-4d6b-8e1c-ecf901ebf353",
   "metadata": {},
   "outputs": [
    {
     "name": "stdout",
     "output_type": "stream",
     "text": [
      "Slope: [[2.64075245e-07]]\n",
      "Mean squared error:  3.905203173621553e-05\n",
      "R2 score:  0.00012437048269298145\n"
     ]
    }
   ],
   "source": [
    "# Print the model summary statistics. This is where you evaluate the performance of the model.\n",
    "print('Slope:' ,regression.coef_)\n",
    "print('Mean squared error: ', rmse)\n",
    "print('R2 score: ', r2)"
   ]
  },
  {
   "cell_type": "code",
   "execution_count": 258,
   "id": "82be2f47-38cb-4c7d-8968-3ac190ebd8da",
   "metadata": {},
   "outputs": [
    {
     "data": {
      "text/html": [
       "<div>\n",
       "<style scoped>\n",
       "    .dataframe tbody tr th:only-of-type {\n",
       "        vertical-align: middle;\n",
       "    }\n",
       "\n",
       "    .dataframe tbody tr th {\n",
       "        vertical-align: top;\n",
       "    }\n",
       "\n",
       "    .dataframe thead th {\n",
       "        text-align: right;\n",
       "    }\n",
       "</style>\n",
       "<table border=\"1\" class=\"dataframe\">\n",
       "  <thead>\n",
       "    <tr style=\"text-align: right;\">\n",
       "      <th></th>\n",
       "      <th>Actual</th>\n",
       "      <th>Predicted</th>\n",
       "    </tr>\n",
       "  </thead>\n",
       "  <tbody>\n",
       "    <tr>\n",
       "      <th>0</th>\n",
       "      <td>0.0006</td>\n",
       "      <td>0.002818</td>\n",
       "    </tr>\n",
       "    <tr>\n",
       "      <th>1</th>\n",
       "      <td>0.0015</td>\n",
       "      <td>0.002818</td>\n",
       "    </tr>\n",
       "    <tr>\n",
       "      <th>2</th>\n",
       "      <td>0.0024</td>\n",
       "      <td>0.002817</td>\n",
       "    </tr>\n",
       "    <tr>\n",
       "      <th>3</th>\n",
       "      <td>0.0000</td>\n",
       "      <td>0.002818</td>\n",
       "    </tr>\n",
       "    <tr>\n",
       "      <th>4</th>\n",
       "      <td>0.0056</td>\n",
       "      <td>0.002820</td>\n",
       "    </tr>\n",
       "    <tr>\n",
       "      <th>5</th>\n",
       "      <td>0.0100</td>\n",
       "      <td>0.002829</td>\n",
       "    </tr>\n",
       "    <tr>\n",
       "      <th>6</th>\n",
       "      <td>0.0006</td>\n",
       "      <td>0.002818</td>\n",
       "    </tr>\n",
       "    <tr>\n",
       "      <th>7</th>\n",
       "      <td>0.0044</td>\n",
       "      <td>0.002817</td>\n",
       "    </tr>\n",
       "    <tr>\n",
       "      <th>8</th>\n",
       "      <td>0.0020</td>\n",
       "      <td>0.002818</td>\n",
       "    </tr>\n",
       "    <tr>\n",
       "      <th>9</th>\n",
       "      <td>0.0019</td>\n",
       "      <td>0.002818</td>\n",
       "    </tr>\n",
       "    <tr>\n",
       "      <th>10</th>\n",
       "      <td>0.0006</td>\n",
       "      <td>0.002818</td>\n",
       "    </tr>\n",
       "    <tr>\n",
       "      <th>11</th>\n",
       "      <td>0.0006</td>\n",
       "      <td>0.002817</td>\n",
       "    </tr>\n",
       "    <tr>\n",
       "      <th>12</th>\n",
       "      <td>0.0006</td>\n",
       "      <td>0.002818</td>\n",
       "    </tr>\n",
       "    <tr>\n",
       "      <th>13</th>\n",
       "      <td>0.0023</td>\n",
       "      <td>0.002818</td>\n",
       "    </tr>\n",
       "    <tr>\n",
       "      <th>14</th>\n",
       "      <td>0.0015</td>\n",
       "      <td>0.002818</td>\n",
       "    </tr>\n",
       "    <tr>\n",
       "      <th>15</th>\n",
       "      <td>0.0056</td>\n",
       "      <td>0.002820</td>\n",
       "    </tr>\n",
       "    <tr>\n",
       "      <th>16</th>\n",
       "      <td>0.0016</td>\n",
       "      <td>0.002832</td>\n",
       "    </tr>\n",
       "    <tr>\n",
       "      <th>17</th>\n",
       "      <td>0.0360</td>\n",
       "      <td>0.002832</td>\n",
       "    </tr>\n",
       "    <tr>\n",
       "      <th>18</th>\n",
       "      <td>0.0016</td>\n",
       "      <td>0.002818</td>\n",
       "    </tr>\n",
       "    <tr>\n",
       "      <th>19</th>\n",
       "      <td>0.0015</td>\n",
       "      <td>0.002818</td>\n",
       "    </tr>\n",
       "    <tr>\n",
       "      <th>20</th>\n",
       "      <td>0.0000</td>\n",
       "      <td>0.002818</td>\n",
       "    </tr>\n",
       "    <tr>\n",
       "      <th>21</th>\n",
       "      <td>0.0032</td>\n",
       "      <td>0.002818</td>\n",
       "    </tr>\n",
       "    <tr>\n",
       "      <th>22</th>\n",
       "      <td>0.0015</td>\n",
       "      <td>0.002818</td>\n",
       "    </tr>\n",
       "    <tr>\n",
       "      <th>23</th>\n",
       "      <td>0.0024</td>\n",
       "      <td>0.002817</td>\n",
       "    </tr>\n",
       "    <tr>\n",
       "      <th>24</th>\n",
       "      <td>0.0033</td>\n",
       "      <td>0.002817</td>\n",
       "    </tr>\n",
       "    <tr>\n",
       "      <th>25</th>\n",
       "      <td>0.0001</td>\n",
       "      <td>0.002818</td>\n",
       "    </tr>\n",
       "    <tr>\n",
       "      <th>26</th>\n",
       "      <td>0.0218</td>\n",
       "      <td>0.002817</td>\n",
       "    </tr>\n",
       "    <tr>\n",
       "      <th>27</th>\n",
       "      <td>0.0006</td>\n",
       "      <td>0.002817</td>\n",
       "    </tr>\n",
       "    <tr>\n",
       "      <th>28</th>\n",
       "      <td>0.0006</td>\n",
       "      <td>0.002818</td>\n",
       "    </tr>\n",
       "    <tr>\n",
       "      <th>29</th>\n",
       "      <td>0.0005</td>\n",
       "      <td>0.002817</td>\n",
       "    </tr>\n",
       "  </tbody>\n",
       "</table>\n",
       "</div>"
      ],
      "text/plain": [
       "    Actual  Predicted\n",
       "0   0.0006   0.002818\n",
       "1   0.0015   0.002818\n",
       "2   0.0024   0.002817\n",
       "3   0.0000   0.002818\n",
       "4   0.0056   0.002820\n",
       "5   0.0100   0.002829\n",
       "6   0.0006   0.002818\n",
       "7   0.0044   0.002817\n",
       "8   0.0020   0.002818\n",
       "9   0.0019   0.002818\n",
       "10  0.0006   0.002818\n",
       "11  0.0006   0.002817\n",
       "12  0.0006   0.002818\n",
       "13  0.0023   0.002818\n",
       "14  0.0015   0.002818\n",
       "15  0.0056   0.002820\n",
       "16  0.0016   0.002832\n",
       "17  0.0360   0.002832\n",
       "18  0.0016   0.002818\n",
       "19  0.0015   0.002818\n",
       "20  0.0000   0.002818\n",
       "21  0.0032   0.002818\n",
       "22  0.0015   0.002818\n",
       "23  0.0024   0.002817\n",
       "24  0.0033   0.002817\n",
       "25  0.0001   0.002818\n",
       "26  0.0218   0.002817\n",
       "27  0.0006   0.002817\n",
       "28  0.0006   0.002818\n",
       "29  0.0005   0.002817"
      ]
     },
     "execution_count": 258,
     "metadata": {},
     "output_type": "execute_result"
    }
   ],
   "source": [
    "# Create a dataframe comparing the actual and predicted values of y.\n",
    "data = pd.DataFrame({'Actual': y_test.flatten(), 'Predicted': y_pred.flatten()})\n",
    "data.head(30)"
   ]
  },
  {
   "cell_type": "code",
   "execution_count": 261,
   "id": "a9f1bbda-b7ab-46c3-a0e1-71a754e30cee",
   "metadata": {},
   "outputs": [],
   "source": [
    "# Predict.\n",
    "y_pred_train = regression.predict(X_train) # This is predicting X_train!"
   ]
  },
  {
   "cell_type": "code",
   "execution_count": 264,
   "id": "62b5a45e-c94a-44c7-b178-7518f17dea85",
   "metadata": {},
   "outputs": [],
   "source": [
    "rmse = mean_squared_error(y_train, y_pred_train)\n",
    "r2 = r2_score(y_train, y_pred_train)"
   ]
  },
  {
   "cell_type": "code",
   "execution_count": 267,
   "id": "175fa096-4b5c-4d17-ad89-ddaef11bb883",
   "metadata": {},
   "outputs": [
    {
     "name": "stdout",
     "output_type": "stream",
     "text": [
      "Slope: [[2.64075245e-07]]\n",
      "Mean squared error:  3.871399894538564e-05\n",
      "R2 score:  3.22743210430243e-05\n"
     ]
    }
   ],
   "source": [
    "print('Slope:' ,regression.coef_)\n",
    "print('Mean squared error: ', rmse)\n",
    "print('R2 score: ', r2)"
   ]
  },
  {
   "cell_type": "code",
   "execution_count": 272,
   "id": "8f280718-5a34-41ba-a20a-d00ec829b606",
   "metadata": {},
   "outputs": [
    {
     "data": {
      "image/png": "[encoded data removed]",
      "text/plain": [
       "<Figure size 640x480 with 1 Axes>"
      ]
     },
     "metadata": {},
     "output_type": "display_data"
    }
   ],
   "source": [
    "# Visualizing the training set results.\n",
    "plot_test = plt\n",
    "plot_test.scatter(X_train, y_train, color='green', s = 15)\n",
    "plot_test.plot(X_train, y_pred_train, color='red', linewidth =3)\n",
    "plot_test.title('Severity vs Precipitation (Train set)')\n",
    "plot_test.xlabel('Severity')\n",
    "plot_test.ylabel('Precipitation')\n",
    "plot_test.show()"
   ]
  },
  {
   "cell_type": "markdown",
   "id": "c0db88d7-ebb1-408d-b281-fd05824d9100",
   "metadata": {},
   "source": [
    "## Trying the model with pressure and severity only for those that reported pain at all"
   ]
  },
  {
   "cell_type": "markdown",
   "id": "9fe0045c-9355-4501-a8eb-0ae06386c16c",
   "metadata": {},
   "source": [
    "### Reshape the data"
   ]
  },
  {
   "cell_type": "code",
   "execution_count": 278,
   "id": "fe110f2b-af56-4cf1-8654-7cbb67509405",
   "metadata": {},
   "outputs": [],
   "source": [
    "# Define the independent variable (x) and the dependent variable (y)\n",
    "X = pain_df['severity'].values.reshape(-1, 1)\n",
    "y = pain_df['pressure'].values.reshape(-1, 1)"
   ]
  },
  {
   "cell_type": "markdown",
   "id": "74f2c2f3-7bb7-4c7e-97f6-e63e86801dbd",
   "metadata": {},
   "source": [
    "### Split into test and training"
   ]
  },
  {
   "cell_type": "code",
   "execution_count": 281,
   "id": "d6333c7c-128f-4dd2-b550-e4cfacab46fa",
   "metadata": {},
   "outputs": [],
   "source": [
    "# 70% training, 30% test\n",
    "X_train, X_test, y_train, y_test = train_test_split(X, y, test_size=0.3, random_state=18)"
   ]
  },
  {
   "cell_type": "code",
   "execution_count": 284,
   "id": "9dd8d664-20d5-47d9-98d4-9fbfa510938e",
   "metadata": {},
   "outputs": [
    {
     "name": "stdout",
     "output_type": "stream",
     "text": [
      "X_train shape: (2468697, 1)\n",
      "X_test shape: (1058013, 1)\n",
      "y_train shape: (2468697, 1)\n",
      "y_test shape: (1058013, 1)\n"
     ]
    }
   ],
   "source": [
    "# Verify the shape of the training and test sets\n",
    "print(f'X_train shape: {X_train.shape}')\n",
    "print(f'X_test shape: {X_test.shape}')\n",
    "print(f'y_train shape: {y_train.shape}')\n",
    "print(f'y_test shape: {y_test.shape}')"
   ]
  },
  {
   "cell_type": "markdown",
   "id": "1ec6f228-fd1e-47b3-b2a3-2066a81bcc8d",
   "metadata": {},
   "source": [
    "### Run linear regression"
   ]
  },
  {
   "cell_type": "code",
   "execution_count": 287,
   "id": "b196b101-fa24-4f68-b2fc-94e4e42efa42",
   "metadata": {},
   "outputs": [],
   "source": [
    "# Initialize the linear regression model\n",
    "regression = LinearRegression()"
   ]
  },
  {
   "cell_type": "code",
   "execution_count": 289,
   "id": "1f8e714b-22d6-4fdc-87d2-e0a63d2242f8",
   "metadata": {},
   "outputs": [
    {
     "data": {
      "text/html": [
       "<style>#sk-container-id-2 {color: black;background-color: white;}#sk-container-id-2 pre{padding: 0;}#sk-container-id-2 div.sk-toggleable {background-color: white;}#sk-container-id-2 label.sk-toggleable__label {cursor: pointer;display: block;width: 100%;margin-bottom: 0;padding: 0.3em;box-sizing: border-box;text-align: center;}#sk-container-id-2 label.sk-toggleable__label-arrow:before {content: \"▸\";float: left;margin-right: 0.25em;color: #696969;}#sk-container-id-2 label.sk-toggleable__label-arrow:hover:before {color: black;}#sk-container-id-2 div.sk-estimator:hover label.sk-toggleable__label-arrow:before {color: black;}#sk-container-id-2 div.sk-toggleable__content {max-height: 0;max-width: 0;overflow: hidden;text-align: left;background-color: #f0f8ff;}#sk-container-id-2 div.sk-toggleable__content pre {margin: 0.2em;color: black;border-radius: 0.25em;background-color: #f0f8ff;}#sk-container-id-2 input.sk-toggleable__control:checked~div.sk-toggleable__content {max-height: 200px;max-width: 100%;overflow: auto;}#sk-container-id-2 input.sk-toggleable__control:checked~label.sk-toggleable__label-arrow:before {content: \"▾\";}#sk-container-id-2 div.sk-estimator input.sk-toggleable__control:checked~label.sk-toggleable__label {background-color: #d4ebff;}#sk-container-id-2 div.sk-label input.sk-toggleable__control:checked~label.sk-toggleable__label {background-color: #d4ebff;}#sk-container-id-2 input.sk-hidden--visually {border: 0;clip: rect(1px 1px 1px 1px);clip: rect(1px, 1px, 1px, 1px);height: 1px;margin: -1px;overflow: hidden;padding: 0;position: absolute;width: 1px;}#sk-container-id-2 div.sk-estimator {font-family: monospace;background-color: #f0f8ff;border: 1px dotted black;border-radius: 0.25em;box-sizing: border-box;margin-bottom: 0.5em;}#sk-container-id-2 div.sk-estimator:hover {background-color: #d4ebff;}#sk-container-id-2 div.sk-parallel-item::after {content: \"\";width: 100%;border-bottom: 1px solid gray;flex-grow: 1;}#sk-container-id-2 div.sk-label:hover label.sk-toggleable__label {background-color: #d4ebff;}#sk-container-id-2 div.sk-serial::before {content: \"\";position: absolute;border-left: 1px solid gray;box-sizing: border-box;top: 0;bottom: 0;left: 50%;z-index: 0;}#sk-container-id-2 div.sk-serial {display: flex;flex-direction: column;align-items: center;background-color: white;padding-right: 0.2em;padding-left: 0.2em;position: relative;}#sk-container-id-2 div.sk-item {position: relative;z-index: 1;}#sk-container-id-2 div.sk-parallel {display: flex;align-items: stretch;justify-content: center;background-color: white;position: relative;}#sk-container-id-2 div.sk-item::before, #sk-container-id-2 div.sk-parallel-item::before {content: \"\";position: absolute;border-left: 1px solid gray;box-sizing: border-box;top: 0;bottom: 0;left: 50%;z-index: -1;}#sk-container-id-2 div.sk-parallel-item {display: flex;flex-direction: column;z-index: 1;position: relative;background-color: white;}#sk-container-id-2 div.sk-parallel-item:first-child::after {align-self: flex-end;width: 50%;}#sk-container-id-2 div.sk-parallel-item:last-child::after {align-self: flex-start;width: 50%;}#sk-container-id-2 div.sk-parallel-item:only-child::after {width: 0;}#sk-container-id-2 div.sk-dashed-wrapped {border: 1px dashed gray;margin: 0 0.4em 0.5em 0.4em;box-sizing: border-box;padding-bottom: 0.4em;background-color: white;}#sk-container-id-2 div.sk-label label {font-family: monospace;font-weight: bold;display: inline-block;line-height: 1.2em;}#sk-container-id-2 div.sk-label-container {text-align: center;}#sk-container-id-2 div.sk-container {/* jupyter's `normalize.less` sets `[hidden] { display: none; }` but bootstrap.min.css set `[hidden] { display: none !important; }` so we also need the `!important` here to be able to override the default hidden behavior on the sphinx rendered scikit-learn.org. See: https://github.com/scikit-learn/scikit-learn/issues/21755 */display: inline-block !important;position: relative;}#sk-container-id-2 div.sk-text-repr-fallback {display: none;}</style><div id=\"sk-container-id-2\" class=\"sk-top-container\"><div class=\"sk-text-repr-fallback\"><pre>LinearRegression()</pre><b>In a Jupyter environment, please rerun this cell to show the HTML representation or trust the notebook. <br />On GitHub, the HTML representation is unable to render, please try loading this page with nbviewer.org.</b></div><div class=\"sk-container\" hidden><div class=\"sk-item\"><div class=\"sk-estimator sk-toggleable\"><input class=\"sk-toggleable__control sk-hidden--visually\" id=\"sk-estimator-id-2\" type=\"checkbox\" checked><label for=\"sk-estimator-id-2\" class=\"sk-toggleable__label sk-toggleable__label-arrow\">LinearRegression</label><div class=\"sk-toggleable__content\"><pre>LinearRegression()</pre></div></div></div></div></div>"
      ],
      "text/plain": [
       "LinearRegression()"
      ]
     },
     "execution_count": 289,
     "metadata": {},
     "output_type": "execute_result"
    }
   ],
   "source": [
    "# Remove NaN values from y_train\n",
    "import numpy as np\n",
    "X_train = X_train[~np.isnan(y_train)]\n",
    "y_train = y_train[~np.isnan(y_train)]\n",
    "\n",
    "# Reshape the arrays to 2D\n",
    "X_train = X_train.reshape(-1, 1)\n",
    "y_train = y_train.reshape(-1, 1)\n",
    "\n",
    "# Fit the model to the training data\n",
    "regression.fit(X_train, y_train)"
   ]
  },
  {
   "cell_type": "code",
   "execution_count": 291,
   "id": "87a6858a-e2dd-42e2-b2c8-fa7534516d49",
   "metadata": {},
   "outputs": [],
   "source": [
    "# Predict on the test data\n",
    "y_pred = regression.predict(X_test)"
   ]
  },
  {
   "cell_type": "markdown",
   "id": "d888b3d1-a940-4a5a-bf05-9736c0cb2bb9",
   "metadata": {},
   "source": [
    "### Visualize the results"
   ]
  },
  {
   "cell_type": "code",
   "execution_count": 294,
   "id": "8e5c0b18-7ad4-43d2-9157-fa1259dcfe21",
   "metadata": {},
   "outputs": [
    {
     "data": {
      "image/png": "[encoded data removed]",
      "text/plain": [
       "<Figure size 1000x600 with 1 Axes>"
      ]
     },
     "metadata": {},
     "output_type": "display_data"
    },
    {
     "data": {
      "text/plain": [
       "<Figure size 640x480 with 0 Axes>"
      ]
     },
     "metadata": {},
     "output_type": "display_data"
    }
   ],
   "source": [
    "# Plot actual vs predicted values to visualize model performance\n",
    "plt.figure(figsize=(10, 6))\n",
    "plt.scatter(X_test, y_test, color='blue', label='Actual Data')\n",
    "plt.plot(X_test, y_pred, color='red', linewidth=2, label='Regression Line')\n",
    "plt.title('Regression Line on Test Set')\n",
    "plt.xlabel('Severity')\n",
    "plt.ylabel('Pressure')\n",
    "plt.legend()\n",
    "plt.show()\n",
    "\n",
    "# Export to the \"Visualizations\" folder\n",
    "file_name = os.path.join(path, 'Visuals', 'regression_line_test_setB.png')\n",
    "plt.savefig(file_name)"
   ]
  },
  {
   "cell_type": "code",
   "execution_count": 297,
   "id": "fbbeabf7-01dd-4915-b923-ff36c87fc101",
   "metadata": {},
   "outputs": [
    {
     "data": {
      "image/png": "[encoded data removed]",
      "text/plain": [
       "<Figure size 640x480 with 1 Axes>"
      ]
     },
     "metadata": {},
     "output_type": "display_data"
    }
   ],
   "source": [
    "# Create a plot that shows the regression line from the model on the test set.\n",
    "plot_test = plt\n",
    "plot_test.scatter(X_test, y_test, color='gray', s = 15)\n",
    "plot_test.plot(X_test, y_pred, color='red', linewidth =3)\n",
    "plot_test.title('Severity vs Pressure (Test set)')\n",
    "plot_test.xlabel('Severity')\n",
    "plot_test.ylabel('Pressure')\n",
    "plot_test.show()"
   ]
  },
  {
   "cell_type": "code",
   "execution_count": 299,
   "id": "9eaa2353-c33a-45d5-8480-46a76e440202",
   "metadata": {},
   "outputs": [],
   "source": [
    "# to remove rows with NaN values\n",
    "import numpy as np\n",
    "from sklearn.metrics import mean_squared_error, r2_score\n",
    "\n",
    "# Remove rows with NaN values from y_test and y_pred\n",
    "nan_indices = np.isnan(y_test) | np.isnan(y_pred)\n",
    "y_test = y_test[~nan_indices]\n",
    "y_pred = y_pred[~nan_indices]\n",
    "\n",
    "# Calculate the model summary statistics\n",
    "rmse = mean_squared_error(y_test, y_pred)  # This is the mean squared error\n",
    "r2 = r2_score(y_test, y_pred)  # This is the R2 score."
   ]
  },
  {
   "cell_type": "code",
   "execution_count": 301,
   "id": "04381356-51ac-4abd-846b-92ec67a552ca",
   "metadata": {},
   "outputs": [
    {
     "name": "stdout",
     "output_type": "stream",
     "text": [
      "Slope: [[-1.1484512e-05]]\n",
      "Mean squared error:  94.03834554679207\n",
      "R2 score:  -3.2158173453034067e-06\n"
     ]
    }
   ],
   "source": [
    "# Print the model summary statistics. This is where you evaluate the performance of the model.\n",
    "print('Slope:' ,regression.coef_)\n",
    "print('Mean squared error: ', rmse)\n",
    "print('R2 score: ', r2)"
   ]
  },
  {
   "cell_type": "code",
   "execution_count": 303,
   "id": "b4e9698f-5590-496d-8909-9053a40579a8",
   "metadata": {},
   "outputs": [
    {
     "data": {
      "text/html": [
       "<div>\n",
       "<style scoped>\n",
       "    .dataframe tbody tr th:only-of-type {\n",
       "        vertical-align: middle;\n",
       "    }\n",
       "\n",
       "    .dataframe tbody tr th {\n",
       "        vertical-align: top;\n",
       "    }\n",
       "\n",
       "    .dataframe thead th {\n",
       "        text-align: right;\n",
       "    }\n",
       "</style>\n",
       "<table border=\"1\" class=\"dataframe\">\n",
       "  <thead>\n",
       "    <tr style=\"text-align: right;\">\n",
       "      <th></th>\n",
       "      <th>Actual</th>\n",
       "      <th>Predicted</th>\n",
       "    </tr>\n",
       "  </thead>\n",
       "  <tbody>\n",
       "    <tr>\n",
       "      <th>0</th>\n",
       "      <td>1029.0</td>\n",
       "      <td>1017.536011</td>\n",
       "    </tr>\n",
       "    <tr>\n",
       "      <th>1</th>\n",
       "      <td>1022.0</td>\n",
       "      <td>1017.536072</td>\n",
       "    </tr>\n",
       "    <tr>\n",
       "      <th>2</th>\n",
       "      <td>1035.0</td>\n",
       "      <td>1017.536072</td>\n",
       "    </tr>\n",
       "    <tr>\n",
       "      <th>3</th>\n",
       "      <td>1013.0</td>\n",
       "      <td>1017.536011</td>\n",
       "    </tr>\n",
       "    <tr>\n",
       "      <th>4</th>\n",
       "      <td>1003.0</td>\n",
       "      <td>1017.536011</td>\n",
       "    </tr>\n",
       "    <tr>\n",
       "      <th>5</th>\n",
       "      <td>1016.0</td>\n",
       "      <td>1017.536072</td>\n",
       "    </tr>\n",
       "    <tr>\n",
       "      <th>6</th>\n",
       "      <td>1005.0</td>\n",
       "      <td>1017.535950</td>\n",
       "    </tr>\n",
       "    <tr>\n",
       "      <th>7</th>\n",
       "      <td>1010.0</td>\n",
       "      <td>1017.535278</td>\n",
       "    </tr>\n",
       "    <tr>\n",
       "      <th>8</th>\n",
       "      <td>1026.0</td>\n",
       "      <td>1017.536011</td>\n",
       "    </tr>\n",
       "    <tr>\n",
       "      <th>9</th>\n",
       "      <td>1038.0</td>\n",
       "      <td>1017.536072</td>\n",
       "    </tr>\n",
       "    <tr>\n",
       "      <th>10</th>\n",
       "      <td>1027.0</td>\n",
       "      <td>1017.536011</td>\n",
       "    </tr>\n",
       "    <tr>\n",
       "      <th>11</th>\n",
       "      <td>1003.0</td>\n",
       "      <td>1017.535522</td>\n",
       "    </tr>\n",
       "    <tr>\n",
       "      <th>12</th>\n",
       "      <td>1022.0</td>\n",
       "      <td>1017.536011</td>\n",
       "    </tr>\n",
       "    <tr>\n",
       "      <th>13</th>\n",
       "      <td>1013.0</td>\n",
       "      <td>1017.536072</td>\n",
       "    </tr>\n",
       "    <tr>\n",
       "      <th>14</th>\n",
       "      <td>1009.0</td>\n",
       "      <td>1017.536072</td>\n",
       "    </tr>\n",
       "    <tr>\n",
       "      <th>15</th>\n",
       "      <td>1022.0</td>\n",
       "      <td>1017.536011</td>\n",
       "    </tr>\n",
       "    <tr>\n",
       "      <th>16</th>\n",
       "      <td>1018.0</td>\n",
       "      <td>1017.536072</td>\n",
       "    </tr>\n",
       "    <tr>\n",
       "      <th>17</th>\n",
       "      <td>1025.0</td>\n",
       "      <td>1017.536072</td>\n",
       "    </tr>\n",
       "    <tr>\n",
       "      <th>18</th>\n",
       "      <td>1028.0</td>\n",
       "      <td>1017.536072</td>\n",
       "    </tr>\n",
       "    <tr>\n",
       "      <th>19</th>\n",
       "      <td>1012.0</td>\n",
       "      <td>1017.536072</td>\n",
       "    </tr>\n",
       "    <tr>\n",
       "      <th>20</th>\n",
       "      <td>1022.0</td>\n",
       "      <td>1017.524353</td>\n",
       "    </tr>\n",
       "    <tr>\n",
       "      <th>21</th>\n",
       "      <td>1032.0</td>\n",
       "      <td>1017.536072</td>\n",
       "    </tr>\n",
       "    <tr>\n",
       "      <th>22</th>\n",
       "      <td>1018.0</td>\n",
       "      <td>1017.536072</td>\n",
       "    </tr>\n",
       "    <tr>\n",
       "      <th>23</th>\n",
       "      <td>1026.0</td>\n",
       "      <td>1017.536011</td>\n",
       "    </tr>\n",
       "    <tr>\n",
       "      <th>24</th>\n",
       "      <td>1025.0</td>\n",
       "      <td>1017.536072</td>\n",
       "    </tr>\n",
       "    <tr>\n",
       "      <th>25</th>\n",
       "      <td>1038.0</td>\n",
       "      <td>1017.536072</td>\n",
       "    </tr>\n",
       "    <tr>\n",
       "      <th>26</th>\n",
       "      <td>1015.0</td>\n",
       "      <td>1017.536072</td>\n",
       "    </tr>\n",
       "    <tr>\n",
       "      <th>27</th>\n",
       "      <td>1029.0</td>\n",
       "      <td>1017.536011</td>\n",
       "    </tr>\n",
       "    <tr>\n",
       "      <th>28</th>\n",
       "      <td>1017.0</td>\n",
       "      <td>1017.536011</td>\n",
       "    </tr>\n",
       "    <tr>\n",
       "      <th>29</th>\n",
       "      <td>1022.0</td>\n",
       "      <td>1017.536072</td>\n",
       "    </tr>\n",
       "  </tbody>\n",
       "</table>\n",
       "</div>"
      ],
      "text/plain": [
       "    Actual    Predicted\n",
       "0   1029.0  1017.536011\n",
       "1   1022.0  1017.536072\n",
       "2   1035.0  1017.536072\n",
       "3   1013.0  1017.536011\n",
       "4   1003.0  1017.536011\n",
       "5   1016.0  1017.536072\n",
       "6   1005.0  1017.535950\n",
       "7   1010.0  1017.535278\n",
       "8   1026.0  1017.536011\n",
       "9   1038.0  1017.536072\n",
       "10  1027.0  1017.536011\n",
       "11  1003.0  1017.535522\n",
       "12  1022.0  1017.536011\n",
       "13  1013.0  1017.536072\n",
       "14  1009.0  1017.536072\n",
       "15  1022.0  1017.536011\n",
       "16  1018.0  1017.536072\n",
       "17  1025.0  1017.536072\n",
       "18  1028.0  1017.536072\n",
       "19  1012.0  1017.536072\n",
       "20  1022.0  1017.524353\n",
       "21  1032.0  1017.536072\n",
       "22  1018.0  1017.536072\n",
       "23  1026.0  1017.536011\n",
       "24  1025.0  1017.536072\n",
       "25  1038.0  1017.536072\n",
       "26  1015.0  1017.536072\n",
       "27  1029.0  1017.536011\n",
       "28  1017.0  1017.536011\n",
       "29  1022.0  1017.536072"
      ]
     },
     "execution_count": 303,
     "metadata": {},
     "output_type": "execute_result"
    }
   ],
   "source": [
    "# Create a dataframe comparing the actual and predicted values of y.\n",
    "data = pd.DataFrame({'Actual': y_test.flatten(), 'Predicted': y_pred.flatten()})\n",
    "data.head(30)"
   ]
  },
  {
   "cell_type": "code",
   "execution_count": 305,
   "id": "6390aa5b-3033-4266-bc8e-ca35d7531173",
   "metadata": {},
   "outputs": [],
   "source": [
    "# Predict.\n",
    "y_pred_train = regression.predict(X_train) # This is predicting X_train!"
   ]
  },
  {
   "cell_type": "code",
   "execution_count": 307,
   "id": "2d7518c7-c0cd-4448-a274-b2c94428a4b0",
   "metadata": {},
   "outputs": [],
   "source": [
    "rmse = mean_squared_error(y_train, y_pred_train)\n",
    "r2 = r2_score(y_train, y_pred_train)"
   ]
  },
  {
   "cell_type": "code",
   "execution_count": 309,
   "id": "fe4015f3-1f5f-492d-9150-39f33a440ba9",
   "metadata": {},
   "outputs": [
    {
     "name": "stdout",
     "output_type": "stream",
     "text": [
      "Slope: [[-1.1484512e-05]]\n",
      "Mean squared error:  93.66297991001332\n",
      "R2 score:  -1.4934721392911854e-07\n"
     ]
    }
   ],
   "source": [
    "print('Slope:' ,regression.coef_)\n",
    "print('Mean squared error: ', rmse)\n",
    "print('R2 score: ', r2)"
   ]
  },
  {
   "cell_type": "code",
   "execution_count": 311,
   "id": "1589f618-e553-4fb0-b05d-6ca2a23974e6",
   "metadata": {},
   "outputs": [
    {
     "data": {
      "image/png": "[encoded data removed]",
      "text/plain": [
       "<Figure size 640x480 with 1 Axes>"
      ]
     },
     "metadata": {},
     "output_type": "display_data"
    }
   ],
   "source": [
    "# Visualizing the training set results.\n",
    "plot_test = plt\n",
    "plot_test.scatter(X_train, y_train, color='green', s = 15)\n",
    "plot_test.plot(X_train, y_pred_train, color='red', linewidth =3)\n",
    "plot_test.title('Severity vs Precipitation (Train set)')\n",
    "plot_test.xlabel('Severity')\n",
    "plot_test.ylabel('Precipitation')\n",
    "plot_test.show()"
   ]
  },
  {
   "cell_type": "markdown",
   "id": "7313fc9d-d9a1-4408-8a18-d01f8c388de6",
   "metadata": {},
   "source": [
    "## Examining whether having arthritis impacts the relationship"
   ]
  },
  {
   "cell_type": "markdown",
   "id": "c7b1325b-df71-465f-ab22-3fa4bb702286",
   "metadata": {},
   "source": [
    "### Reshape"
   ]
  },
  {
   "cell_type": "code",
   "execution_count": 315,
   "id": "7e3e79da-edbe-41b6-ae96-402e919d1ee4",
   "metadata": {},
   "outputs": [],
   "source": [
    "# Define the independent variable (x) and the dependent variable (y)\n",
    "X = pain_df['has_arthritis'].values.reshape(-1, 1)\n",
    "y = pain_df['severity'].values.reshape(-1, 1)"
   ]
  },
  {
   "cell_type": "markdown",
   "id": "28b5a41e-2306-49ee-b500-c2315cab2b7c",
   "metadata": {},
   "source": [
    "### Split into test and training"
   ]
  },
  {
   "cell_type": "code",
   "execution_count": 318,
   "id": "200a42b1-df5a-4035-9360-c78b5a76e98c",
   "metadata": {},
   "outputs": [],
   "source": [
    "# 70% training, 30% test\n",
    "X_train, X_test, y_train, y_test = train_test_split(X, y, test_size=0.3, random_state=18)"
   ]
  },
  {
   "cell_type": "code",
   "execution_count": 320,
   "id": "cc7809f5-8916-4d1d-9ec0-735706c11f67",
   "metadata": {},
   "outputs": [
    {
     "name": "stdout",
     "output_type": "stream",
     "text": [
      "X_train shape: (2468697, 1)\n",
      "X_test shape: (1058013, 1)\n",
      "y_train shape: (2468697, 1)\n",
      "y_test shape: (1058013, 1)\n"
     ]
    }
   ],
   "source": [
    "# Verify the shape of the training and test sets\n",
    "print(f'X_train shape: {X_train.shape}')\n",
    "print(f'X_test shape: {X_test.shape}')\n",
    "print(f'y_train shape: {y_train.shape}')\n",
    "print(f'y_test shape: {y_test.shape}')"
   ]
  },
  {
   "cell_type": "markdown",
   "id": "933c4a34-0461-4270-926d-2e40f9221a89",
   "metadata": {},
   "source": [
    "### Run linear regression"
   ]
  },
  {
   "cell_type": "code",
   "execution_count": 323,
   "id": "45833d70-9e45-4465-8772-90f79a972a64",
   "metadata": {},
   "outputs": [],
   "source": [
    "# Initialize the linear regression model\n",
    "regression = LinearRegression()"
   ]
  },
  {
   "cell_type": "code",
   "execution_count": 327,
   "id": "4dd1c01b-d1f0-4aea-83f2-03d6646efc37",
   "metadata": {},
   "outputs": [
    {
     "data": {
      "text/html": [
       "<style>#sk-container-id-3 {color: black;background-color: white;}#sk-container-id-3 pre{padding: 0;}#sk-container-id-3 div.sk-toggleable {background-color: white;}#sk-container-id-3 label.sk-toggleable__label {cursor: pointer;display: block;width: 100%;margin-bottom: 0;padding: 0.3em;box-sizing: border-box;text-align: center;}#sk-container-id-3 label.sk-toggleable__label-arrow:before {content: \"▸\";float: left;margin-right: 0.25em;color: #696969;}#sk-container-id-3 label.sk-toggleable__label-arrow:hover:before {color: black;}#sk-container-id-3 div.sk-estimator:hover label.sk-toggleable__label-arrow:before {color: black;}#sk-container-id-3 div.sk-toggleable__content {max-height: 0;max-width: 0;overflow: hidden;text-align: left;background-color: #f0f8ff;}#sk-container-id-3 div.sk-toggleable__content pre {margin: 0.2em;color: black;border-radius: 0.25em;background-color: #f0f8ff;}#sk-container-id-3 input.sk-toggleable__control:checked~div.sk-toggleable__content {max-height: 200px;max-width: 100%;overflow: auto;}#sk-container-id-3 input.sk-toggleable__control:checked~label.sk-toggleable__label-arrow:before {content: \"▾\";}#sk-container-id-3 div.sk-estimator input.sk-toggleable__control:checked~label.sk-toggleable__label {background-color: #d4ebff;}#sk-container-id-3 div.sk-label input.sk-toggleable__control:checked~label.sk-toggleable__label {background-color: #d4ebff;}#sk-container-id-3 input.sk-hidden--visually {border: 0;clip: rect(1px 1px 1px 1px);clip: rect(1px, 1px, 1px, 1px);height: 1px;margin: -1px;overflow: hidden;padding: 0;position: absolute;width: 1px;}#sk-container-id-3 div.sk-estimator {font-family: monospace;background-color: #f0f8ff;border: 1px dotted black;border-radius: 0.25em;box-sizing: border-box;margin-bottom: 0.5em;}#sk-container-id-3 div.sk-estimator:hover {background-color: #d4ebff;}#sk-container-id-3 div.sk-parallel-item::after {content: \"\";width: 100%;border-bottom: 1px solid gray;flex-grow: 1;}#sk-container-id-3 div.sk-label:hover label.sk-toggleable__label {background-color: #d4ebff;}#sk-container-id-3 div.sk-serial::before {content: \"\";position: absolute;border-left: 1px solid gray;box-sizing: border-box;top: 0;bottom: 0;left: 50%;z-index: 0;}#sk-container-id-3 div.sk-serial {display: flex;flex-direction: column;align-items: center;background-color: white;padding-right: 0.2em;padding-left: 0.2em;position: relative;}#sk-container-id-3 div.sk-item {position: relative;z-index: 1;}#sk-container-id-3 div.sk-parallel {display: flex;align-items: stretch;justify-content: center;background-color: white;position: relative;}#sk-container-id-3 div.sk-item::before, #sk-container-id-3 div.sk-parallel-item::before {content: \"\";position: absolute;border-left: 1px solid gray;box-sizing: border-box;top: 0;bottom: 0;left: 50%;z-index: -1;}#sk-container-id-3 div.sk-parallel-item {display: flex;flex-direction: column;z-index: 1;position: relative;background-color: white;}#sk-container-id-3 div.sk-parallel-item:first-child::after {align-self: flex-end;width: 50%;}#sk-container-id-3 div.sk-parallel-item:last-child::after {align-self: flex-start;width: 50%;}#sk-container-id-3 div.sk-parallel-item:only-child::after {width: 0;}#sk-container-id-3 div.sk-dashed-wrapped {border: 1px dashed gray;margin: 0 0.4em 0.5em 0.4em;box-sizing: border-box;padding-bottom: 0.4em;background-color: white;}#sk-container-id-3 div.sk-label label {font-family: monospace;font-weight: bold;display: inline-block;line-height: 1.2em;}#sk-container-id-3 div.sk-label-container {text-align: center;}#sk-container-id-3 div.sk-container {/* jupyter's `normalize.less` sets `[hidden] { display: none; }` but bootstrap.min.css set `[hidden] { display: none !important; }` so we also need the `!important` here to be able to override the default hidden behavior on the sphinx rendered scikit-learn.org. See: https://github.com/scikit-learn/scikit-learn/issues/21755 */display: inline-block !important;position: relative;}#sk-container-id-3 div.sk-text-repr-fallback {display: none;}</style><div id=\"sk-container-id-3\" class=\"sk-top-container\"><div class=\"sk-text-repr-fallback\"><pre>LinearRegression()</pre><b>In a Jupyter environment, please rerun this cell to show the HTML representation or trust the notebook. <br />On GitHub, the HTML representation is unable to render, please try loading this page with nbviewer.org.</b></div><div class=\"sk-container\" hidden><div class=\"sk-item\"><div class=\"sk-estimator sk-toggleable\"><input class=\"sk-toggleable__control sk-hidden--visually\" id=\"sk-estimator-id-3\" type=\"checkbox\" checked><label for=\"sk-estimator-id-3\" class=\"sk-toggleable__label sk-toggleable__label-arrow\">LinearRegression</label><div class=\"sk-toggleable__content\"><pre>LinearRegression()</pre></div></div></div></div></div>"
      ],
      "text/plain": [
       "LinearRegression()"
      ]
     },
     "execution_count": 327,
     "metadata": {},
     "output_type": "execute_result"
    }
   ],
   "source": [
    "# Fit the regression object onto the training set.\n",
    "regression.fit(X_train, y_train)"
   ]
  },
  {
   "cell_type": "code",
   "execution_count": 329,
   "id": "e78c382e-9888-4eb1-b52a-0356f6698fc0",
   "metadata": {},
   "outputs": [],
   "source": [
    "# Predict on the test data\n",
    "y_pred = regression.predict(X_test)"
   ]
  },
  {
   "cell_type": "markdown",
   "id": "fb9ffdb5-50ba-48a7-8d4d-c90f2c8451ff",
   "metadata": {},
   "source": [
    "### Visualize the results"
   ]
  },
  {
   "cell_type": "code",
   "execution_count": 332,
   "id": "fdc9c45a-4c5f-40b0-9676-ced1047fa403",
   "metadata": {},
   "outputs": [
    {
     "data": {
      "image/png": "[encoded data removed]",
      "text/plain": [
       "<Figure size 1000x600 with 1 Axes>"
      ]
     },
     "metadata": {},
     "output_type": "display_data"
    },
    {
     "data": {
      "text/plain": [
       "<Figure size 640x480 with 0 Axes>"
      ]
     },
     "metadata": {},
     "output_type": "display_data"
    }
   ],
   "source": [
    "# Plot actual vs predicted values to visualize model performance\n",
    "plt.figure(figsize=(10, 6))\n",
    "plt.scatter(X_test, y_test, color='blue', label='Actual Data')\n",
    "plt.plot(X_test, y_pred, color='red', linewidth=2, label='Regression Line')\n",
    "plt.title('Regression Line on Test Set')\n",
    "plt.xlabel('Has arthritis')\n",
    "plt.ylabel('Severity')\n",
    "plt.legend()\n",
    "plt.show()\n",
    "\n",
    "# Export to the \"Visualizations\" folder\n",
    "file_name = os.path.join(path, 'Visuals', 'regression_line_test_setC.png')\n",
    "plt.savefig(file_name)"
   ]
  },
  {
   "cell_type": "code",
   "execution_count": 334,
   "id": "f97cbffc-303a-4920-8ce1-85890551b2c5",
   "metadata": {},
   "outputs": [
    {
     "data": {
      "image/png": "[encoded data removed]",
      "text/plain": [
       "<Figure size 640x480 with 1 Axes>"
      ]
     },
     "metadata": {},
     "output_type": "display_data"
    }
   ],
   "source": [
    "# Create a plot that shows the regression line from the model on the test set.\n",
    "plot_test = plt\n",
    "plot_test.scatter(X_test, y_test, color='gray', s = 15)\n",
    "plot_test.plot(X_test, y_pred, color='red', linewidth =3)\n",
    "plot_test.title('Arthritis vs Severity (Test set)')\n",
    "plot_test.xlabel('Arthritis')\n",
    "plot_test.ylabel('Severity')\n",
    "plot_test.show()"
   ]
  },
  {
   "cell_type": "code",
   "execution_count": 336,
   "id": "85215e10-0220-4639-a6cd-7ee79c4fc665",
   "metadata": {},
   "outputs": [],
   "source": [
    "# Calculate the model summary statistics\n",
    "rmse = mean_squared_error(y_test, y_pred)  # This is the mean squared error\n",
    "r2 = r2_score(y_test, y_pred)  # This is the R2 score."
   ]
  },
  {
   "cell_type": "code",
   "execution_count": 338,
   "id": "ecf3449b-8be8-4565-a035-00601bb2f763",
   "metadata": {},
   "outputs": [
    {
     "name": "stdout",
     "output_type": "stream",
     "text": [
      "Slope: [[-119.65315277]]\n",
      "Mean squared error:  1892419744.3725197\n",
      "R2 score:  9.22776741019149e-07\n"
     ]
    }
   ],
   "source": [
    "# Print the model summary statistics. This is where you evaluate the performance of the model.\n",
    "print('Slope:' ,regression.coef_)\n",
    "print('Mean squared error: ', rmse)\n",
    "print('R2 score: ', r2)"
   ]
  },
  {
   "cell_type": "code",
   "execution_count": 346,
   "id": "1807d504-b5c4-4c0b-a755-ae3cac8d4386",
   "metadata": {},
   "outputs": [
    {
     "data": {
      "text/html": [
       "<div>\n",
       "<style scoped>\n",
       "    .dataframe tbody tr th:only-of-type {\n",
       "        vertical-align: middle;\n",
       "    }\n",
       "\n",
       "    .dataframe tbody tr th {\n",
       "        vertical-align: top;\n",
       "    }\n",
       "\n",
       "    .dataframe thead th {\n",
       "        text-align: right;\n",
       "    }\n",
       "</style>\n",
       "<table border=\"1\" class=\"dataframe\">\n",
       "  <thead>\n",
       "    <tr style=\"text-align: right;\">\n",
       "      <th></th>\n",
       "      <th>user_id</th>\n",
       "      <th>age</th>\n",
       "      <th>sex</th>\n",
       "      <th>country</th>\n",
       "      <th>checkin_date</th>\n",
       "      <th>trackable_id</th>\n",
       "      <th>trackable_type</th>\n",
       "      <th>trackable_name</th>\n",
       "      <th>trackable_value</th>\n",
       "      <th>has_arthritis</th>\n",
       "      <th>...</th>\n",
       "      <th>condition</th>\n",
       "      <th>weather</th>\n",
       "      <th>severity</th>\n",
       "      <th>Age</th>\n",
       "      <th>precipitation</th>\n",
       "      <th>humidity</th>\n",
       "      <th>min_temp</th>\n",
       "      <th>max_temp</th>\n",
       "      <th>pressure</th>\n",
       "      <th>temp_change</th>\n",
       "    </tr>\n",
       "  </thead>\n",
       "  <tbody>\n",
       "    <tr>\n",
       "      <th>2</th>\n",
       "      <td>376</td>\n",
       "      <td>2</td>\n",
       "      <td>female</td>\n",
       "      <td>CA</td>\n",
       "      <td>2017-04-28</td>\n",
       "      <td>3168</td>\n",
       "      <td>Condition</td>\n",
       "      <td>pain in left upper arm felt like i was getting...</td>\n",
       "      <td>4</td>\n",
       "      <td>0</td>\n",
       "      <td>...</td>\n",
       "      <td>pain in left upper arm felt like i was getting...</td>\n",
       "      <td>NaN</td>\n",
       "      <td>5.0</td>\n",
       "      <td>2</td>\n",
       "      <td>0.0031</td>\n",
       "      <td>66.0</td>\n",
       "      <td>54.0</td>\n",
       "      <td>69.0</td>\n",
       "      <td>1012.0</td>\n",
       "      <td>15.0</td>\n",
       "    </tr>\n",
       "    <tr>\n",
       "      <th>3</th>\n",
       "      <td>376</td>\n",
       "      <td>2</td>\n",
       "      <td>female</td>\n",
       "      <td>CA</td>\n",
       "      <td>2017-04-28</td>\n",
       "      <td>3168</td>\n",
       "      <td>Condition</td>\n",
       "      <td>pain in left upper arm felt like i was getting...</td>\n",
       "      <td>4</td>\n",
       "      <td>0</td>\n",
       "      <td>...</td>\n",
       "      <td>pain in left upper arm felt like i was getting...</td>\n",
       "      <td>NaN</td>\n",
       "      <td>5.0</td>\n",
       "      <td>2</td>\n",
       "      <td>0.0031</td>\n",
       "      <td>66.0</td>\n",
       "      <td>54.0</td>\n",
       "      <td>69.0</td>\n",
       "      <td>1012.0</td>\n",
       "      <td>15.0</td>\n",
       "    </tr>\n",
       "    <tr>\n",
       "      <th>4</th>\n",
       "      <td>376</td>\n",
       "      <td>2</td>\n",
       "      <td>female</td>\n",
       "      <td>CA</td>\n",
       "      <td>2017-04-28</td>\n",
       "      <td>3168</td>\n",
       "      <td>Condition</td>\n",
       "      <td>pain in left upper arm felt like i was getting...</td>\n",
       "      <td>4</td>\n",
       "      <td>0</td>\n",
       "      <td>...</td>\n",
       "      <td>pain in left upper arm felt like i was getting...</td>\n",
       "      <td>NaN</td>\n",
       "      <td>5.0</td>\n",
       "      <td>2</td>\n",
       "      <td>0.0031</td>\n",
       "      <td>66.0</td>\n",
       "      <td>54.0</td>\n",
       "      <td>69.0</td>\n",
       "      <td>1012.0</td>\n",
       "      <td>15.0</td>\n",
       "    </tr>\n",
       "    <tr>\n",
       "      <th>5</th>\n",
       "      <td>376</td>\n",
       "      <td>2</td>\n",
       "      <td>female</td>\n",
       "      <td>CA</td>\n",
       "      <td>2017-04-28</td>\n",
       "      <td>3168</td>\n",
       "      <td>Condition</td>\n",
       "      <td>pain in left upper arm felt like i was getting...</td>\n",
       "      <td>4</td>\n",
       "      <td>0</td>\n",
       "      <td>...</td>\n",
       "      <td>pain in left upper arm felt like i was getting...</td>\n",
       "      <td>NaN</td>\n",
       "      <td>5.0</td>\n",
       "      <td>2</td>\n",
       "      <td>0.0031</td>\n",
       "      <td>66.0</td>\n",
       "      <td>54.0</td>\n",
       "      <td>69.0</td>\n",
       "      <td>1012.0</td>\n",
       "      <td>15.0</td>\n",
       "    </tr>\n",
       "    <tr>\n",
       "      <th>6</th>\n",
       "      <td>376</td>\n",
       "      <td>2</td>\n",
       "      <td>female</td>\n",
       "      <td>CA</td>\n",
       "      <td>2017-04-28</td>\n",
       "      <td>3168</td>\n",
       "      <td>Condition</td>\n",
       "      <td>pain in left upper arm felt like i was getting...</td>\n",
       "      <td>4</td>\n",
       "      <td>0</td>\n",
       "      <td>...</td>\n",
       "      <td>pain in left upper arm felt like i was getting...</td>\n",
       "      <td>NaN</td>\n",
       "      <td>5.0</td>\n",
       "      <td>2</td>\n",
       "      <td>0.0031</td>\n",
       "      <td>66.0</td>\n",
       "      <td>54.0</td>\n",
       "      <td>69.0</td>\n",
       "      <td>1012.0</td>\n",
       "      <td>15.0</td>\n",
       "    </tr>\n",
       "  </tbody>\n",
       "</table>\n",
       "<p>5 rows × 22 columns</p>\n",
       "</div>"
      ],
      "text/plain": [
       "   user_id  age     sex country checkin_date trackable_id trackable_type  \\\n",
       "2      376    2  female      CA   2017-04-28         3168      Condition   \n",
       "3      376    2  female      CA   2017-04-28         3168      Condition   \n",
       "4      376    2  female      CA   2017-04-28         3168      Condition   \n",
       "5      376    2  female      CA   2017-04-28         3168      Condition   \n",
       "6      376    2  female      CA   2017-04-28         3168      Condition   \n",
       "\n",
       "                                      trackable_name trackable_value  \\\n",
       "2  pain in left upper arm felt like i was getting...               4   \n",
       "3  pain in left upper arm felt like i was getting...               4   \n",
       "4  pain in left upper arm felt like i was getting...               4   \n",
       "5  pain in left upper arm felt like i was getting...               4   \n",
       "6  pain in left upper arm felt like i was getting...               4   \n",
       "\n",
       "   has_arthritis  ...                                          condition  \\\n",
       "2              0  ...  pain in left upper arm felt like i was getting...   \n",
       "3              0  ...  pain in left upper arm felt like i was getting...   \n",
       "4              0  ...  pain in left upper arm felt like i was getting...   \n",
       "5              0  ...  pain in left upper arm felt like i was getting...   \n",
       "6              0  ...  pain in left upper arm felt like i was getting...   \n",
       "\n",
       "  weather severity Age  precipitation  humidity  min_temp  max_temp  pressure  \\\n",
       "2     NaN      5.0   2         0.0031      66.0      54.0      69.0    1012.0   \n",
       "3     NaN      5.0   2         0.0031      66.0      54.0      69.0    1012.0   \n",
       "4     NaN      5.0   2         0.0031      66.0      54.0      69.0    1012.0   \n",
       "5     NaN      5.0   2         0.0031      66.0      54.0      69.0    1012.0   \n",
       "6     NaN      5.0   2         0.0031      66.0      54.0      69.0    1012.0   \n",
       "\n",
       "   temp_change  \n",
       "2         15.0  \n",
       "3         15.0  \n",
       "4         15.0  \n",
       "5         15.0  \n",
       "6         15.0  \n",
       "\n",
       "[5 rows x 22 columns]"
      ]
     },
     "execution_count": 346,
     "metadata": {},
     "output_type": "execute_result"
    }
   ],
   "source": [
    "pain_df.head()"
   ]
  },
  {
   "cell_type": "code",
   "execution_count": null,
   "id": "e48459a2-a776-4447-b260-468cf6ac8930",
   "metadata": {},
   "outputs": [],
   "source": []
  }
 ],
 "metadata": {
  "kernelspec": {
   "display_name": "Python 3 (ipykernel)",
   "language": "python",
   "name": "python3"
  },
  "language_info": {
   "codemirror_mode": {
    "name": "ipython",
    "version": 3
   },
   "file_extension": ".py",
   "mimetype": "text/x-python",
   "name": "python",
   "nbconvert_exporter": "python",
   "pygments_lexer": "ipython3",
   "version": "3.11.7"
  }
 },
 "nbformat": 4,
 "nbformat_minor": 5
}
